{
 "cells": [
  {
   "cell_type": "code",
   "execution_count": 44,
   "id": "259d4640-328a-4860-adde-12f46d67fd0a",
   "metadata": {},
   "outputs": [],
   "source": [
    "%run 'dataframes.ipynb'"
   ]
  },
  {
   "cell_type": "code",
   "execution_count": 45,
   "id": "c1f05da7-1204-4c3e-a891-0cc08b882464",
   "metadata": {},
   "outputs": [],
   "source": [
    "# make a copy of each dataframe\n",
    "copy_products_df=products_df.copy()\n",
    "copy_orders_df=orders_df.copy()\n",
    "copy_orderlines_df=orderlines_df.copy()\n",
    "copy_brands_df=brands_df.copy()"
   ]
  },
  {
   "cell_type": "markdown",
   "id": "6d198acb-17f7-4933-b740-c0766e396240",
   "metadata": {},
   "source": [
    "### Data cleaning\n",
    "#### Products"
   ]
  },
  {
   "cell_type": "markdown",
   "id": "b79bf7ab-be47-4bf2-802f-072a76502868",
   "metadata": {},
   "source": [
    "##### remove duplicated rows"
   ]
  },
  {
   "cell_type": "code",
   "execution_count": 46,
   "id": "18950413-0a70-45b3-9459-baf9f8876c7f",
   "metadata": {},
   "outputs": [
    {
     "data": {
      "text/plain": [
       "np.int64(8746)"
      ]
     },
     "execution_count": 46,
     "metadata": {},
     "output_type": "execute_result"
    }
   ],
   "source": [
    "#calculate the count of duplicated rows\n",
    "copy_products_df.duplicated().sum()"
   ]
  },
  {
   "cell_type": "code",
   "execution_count": 47,
   "id": "fd4784a0-9a07-41fb-b690-f4fc00aa23a2",
   "metadata": {},
   "outputs": [
    {
     "data": {
      "text/html": [
       "<div>\n",
       "<style scoped>\n",
       "    .dataframe tbody tr th:only-of-type {\n",
       "        vertical-align: middle;\n",
       "    }\n",
       "\n",
       "    .dataframe tbody tr th {\n",
       "        vertical-align: top;\n",
       "    }\n",
       "\n",
       "    .dataframe thead th {\n",
       "        text-align: right;\n",
       "    }\n",
       "</style>\n",
       "<table border=\"1\" class=\"dataframe\">\n",
       "  <thead>\n",
       "    <tr style=\"text-align: right;\">\n",
       "      <th></th>\n",
       "      <th>sku</th>\n",
       "      <th>name</th>\n",
       "      <th>desc</th>\n",
       "      <th>price</th>\n",
       "      <th>promo_price</th>\n",
       "      <th>in_stock</th>\n",
       "      <th>type</th>\n",
       "    </tr>\n",
       "  </thead>\n",
       "  <tbody>\n",
       "    <tr>\n",
       "      <th>101</th>\n",
       "      <td>APP0390</td>\n",
       "      <td>Apple MacBook Pro 133 \"Core i5 25GHz | 4GB RAM...</td>\n",
       "      <td>MacBook Pro laptop 133 inches (MD101Y / A).</td>\n",
       "      <td>1199</td>\n",
       "      <td>11.455.917</td>\n",
       "      <td>0</td>\n",
       "      <td>1282</td>\n",
       "    </tr>\n",
       "    <tr>\n",
       "      <th>102</th>\n",
       "      <td>APP0390</td>\n",
       "      <td>Apple MacBook Pro 133 \"Core i5 25GHz | 4GB RAM...</td>\n",
       "      <td>MacBook Pro laptop 133 inches (MD101Y / A).</td>\n",
       "      <td>1199</td>\n",
       "      <td>11.455.917</td>\n",
       "      <td>0</td>\n",
       "      <td>1282</td>\n",
       "    </tr>\n",
       "    <tr>\n",
       "      <th>103</th>\n",
       "      <td>APP0390</td>\n",
       "      <td>Apple MacBook Pro 133 \"Core i5 25GHz | 4GB RAM...</td>\n",
       "      <td>MacBook Pro laptop 133 inches (MD101Y / A).</td>\n",
       "      <td>1199</td>\n",
       "      <td>11.455.917</td>\n",
       "      <td>0</td>\n",
       "      <td>1282</td>\n",
       "    </tr>\n",
       "    <tr>\n",
       "      <th>104</th>\n",
       "      <td>APP0390</td>\n",
       "      <td>Apple MacBook Pro 133 \"Core i5 25GHz | 4GB RAM...</td>\n",
       "      <td>MacBook Pro laptop 133 inches (MD101Y / A).</td>\n",
       "      <td>1199</td>\n",
       "      <td>11.455.917</td>\n",
       "      <td>0</td>\n",
       "      <td>1282</td>\n",
       "    </tr>\n",
       "    <tr>\n",
       "      <th>105</th>\n",
       "      <td>APP0390</td>\n",
       "      <td>Apple MacBook Pro 133 \"Core i5 25GHz | 4GB RAM...</td>\n",
       "      <td>MacBook Pro laptop 133 inches (MD101Y / A).</td>\n",
       "      <td>1199</td>\n",
       "      <td>11.455.917</td>\n",
       "      <td>0</td>\n",
       "      <td>1282</td>\n",
       "    </tr>\n",
       "    <tr>\n",
       "      <th>...</th>\n",
       "      <td>...</td>\n",
       "      <td>...</td>\n",
       "      <td>...</td>\n",
       "      <td>...</td>\n",
       "      <td>...</td>\n",
       "      <td>...</td>\n",
       "      <td>...</td>\n",
       "    </tr>\n",
       "    <tr>\n",
       "      <th>16831</th>\n",
       "      <td>APP2302</td>\n",
       "      <td>Apple MacBook Pro 13 \"Core i5 Touch Bar 33GHz ...</td>\n",
       "      <td>New MacBook Pro 13-inch Core i5 Touch Bar 33 G...</td>\n",
       "      <td>26.155.941</td>\n",
       "      <td>26.155.941</td>\n",
       "      <td>0</td>\n",
       "      <td>1,02E+12</td>\n",
       "    </tr>\n",
       "    <tr>\n",
       "      <th>16833</th>\n",
       "      <td>APP2303</td>\n",
       "      <td>Apple MacBook Pro 13 \"Core i5 Touch Bar 33GHz ...</td>\n",
       "      <td>New MacBook Pro 13 inch Touch Bar 33 GHz Core ...</td>\n",
       "      <td>237.559.421</td>\n",
       "      <td>23.755.942</td>\n",
       "      <td>0</td>\n",
       "      <td>1,02E+12</td>\n",
       "    </tr>\n",
       "    <tr>\n",
       "      <th>18190</th>\n",
       "      <td>PAR0077</td>\n",
       "      <td>Parrot Bebop Drone 2 Power</td>\n",
       "      <td>Drone cuadricóptero quality camera integrated ...</td>\n",
       "      <td>699.9</td>\n",
       "      <td>6.733.892</td>\n",
       "      <td>0</td>\n",
       "      <td>11905404</td>\n",
       "    </tr>\n",
       "    <tr>\n",
       "      <th>18308</th>\n",
       "      <td>NKI0010</td>\n",
       "      <td>Nokia Wireless sphygmomanometer Plata</td>\n",
       "      <td>Sphygmomanometer for iPhone iPad and iPod App.</td>\n",
       "      <td>129.99</td>\n",
       "      <td>1.149.899</td>\n",
       "      <td>1</td>\n",
       "      <td>11905404</td>\n",
       "    </tr>\n",
       "    <tr>\n",
       "      <th>18514</th>\n",
       "      <td>PLA0035</td>\n",
       "      <td>Bluetooth Headset Plantronics Explorer 80</td>\n",
       "      <td>egonómico wireless headset design for iPhone i...</td>\n",
       "      <td>39.99</td>\n",
       "      <td>349.896</td>\n",
       "      <td>1</td>\n",
       "      <td>5384</td>\n",
       "    </tr>\n",
       "  </tbody>\n",
       "</table>\n",
       "<p>8746 rows × 7 columns</p>\n",
       "</div>"
      ],
      "text/plain": [
       "           sku                                               name  \\\n",
       "101    APP0390  Apple MacBook Pro 133 \"Core i5 25GHz | 4GB RAM...   \n",
       "102    APP0390  Apple MacBook Pro 133 \"Core i5 25GHz | 4GB RAM...   \n",
       "103    APP0390  Apple MacBook Pro 133 \"Core i5 25GHz | 4GB RAM...   \n",
       "104    APP0390  Apple MacBook Pro 133 \"Core i5 25GHz | 4GB RAM...   \n",
       "105    APP0390  Apple MacBook Pro 133 \"Core i5 25GHz | 4GB RAM...   \n",
       "...        ...                                                ...   \n",
       "16831  APP2302  Apple MacBook Pro 13 \"Core i5 Touch Bar 33GHz ...   \n",
       "16833  APP2303  Apple MacBook Pro 13 \"Core i5 Touch Bar 33GHz ...   \n",
       "18190  PAR0077                         Parrot Bebop Drone 2 Power   \n",
       "18308  NKI0010              Nokia Wireless sphygmomanometer Plata   \n",
       "18514  PLA0035          Bluetooth Headset Plantronics Explorer 80   \n",
       "\n",
       "                                                    desc        price  \\\n",
       "101          MacBook Pro laptop 133 inches (MD101Y / A).         1199   \n",
       "102          MacBook Pro laptop 133 inches (MD101Y / A).         1199   \n",
       "103          MacBook Pro laptop 133 inches (MD101Y / A).         1199   \n",
       "104          MacBook Pro laptop 133 inches (MD101Y / A).         1199   \n",
       "105          MacBook Pro laptop 133 inches (MD101Y / A).         1199   \n",
       "...                                                  ...          ...   \n",
       "16831  New MacBook Pro 13-inch Core i5 Touch Bar 33 G...   26.155.941   \n",
       "16833  New MacBook Pro 13 inch Touch Bar 33 GHz Core ...  237.559.421   \n",
       "18190  Drone cuadricóptero quality camera integrated ...        699.9   \n",
       "18308     Sphygmomanometer for iPhone iPad and iPod App.       129.99   \n",
       "18514  egonómico wireless headset design for iPhone i...        39.99   \n",
       "\n",
       "      promo_price  in_stock      type  \n",
       "101    11.455.917         0      1282  \n",
       "102    11.455.917         0      1282  \n",
       "103    11.455.917         0      1282  \n",
       "104    11.455.917         0      1282  \n",
       "105    11.455.917         0      1282  \n",
       "...           ...       ...       ...  \n",
       "16831  26.155.941         0  1,02E+12  \n",
       "16833  23.755.942         0  1,02E+12  \n",
       "18190   6.733.892         0  11905404  \n",
       "18308   1.149.899         1  11905404  \n",
       "18514     349.896         1      5384  \n",
       "\n",
       "[8746 rows x 7 columns]"
      ]
     },
     "execution_count": 47,
     "metadata": {},
     "output_type": "execute_result"
    }
   ],
   "source": [
    "#shows the duplicated rows\n",
    "products_duplicated_mask=copy_products_df.duplicated()\n",
    "copy_products_df.loc[products_duplicated_mask]"
   ]
  },
  {
   "cell_type": "code",
   "execution_count": 48,
   "id": "25438fcc-11f9-47e7-9a45-f41e9c792213",
   "metadata": {},
   "outputs": [],
   "source": [
    "#drop duplicated rows\n",
    "copy_products_df.drop_duplicates(inplace=True)"
   ]
  },
  {
   "cell_type": "code",
   "execution_count": 49,
   "id": "204bfd09-d7de-4bea-ab24-665b878898a9",
   "metadata": {},
   "outputs": [
    {
     "data": {
      "text/plain": [
       "np.int64(0)"
      ]
     },
     "execution_count": 49,
     "metadata": {},
     "output_type": "execute_result"
    }
   ],
   "source": [
    "#check again if duplicated have been drop\n",
    "copy_products_df.duplicated().sum()"
   ]
  },
  {
   "cell_type": "code",
   "execution_count": 50,
   "id": "51e34f6c-c8af-4fe9-b619-c40ff675c50d",
   "metadata": {},
   "outputs": [],
   "source": [
    "# we reset index so that starts with 0 with step=1\n",
    "copy_products_df=copy_products_df.reset_index(drop=True)"
   ]
  },
  {
   "cell_type": "markdown",
   "id": "95f2a7b9-8cb5-4d5f-87e0-43fa1c7454f7",
   "metadata": {},
   "source": [
    "##### sku column cleaning"
   ]
  },
  {
   "cell_type": "code",
   "execution_count": 51,
   "id": "9cf6c906-42f0-4b34-852a-bd52d3174aad",
   "metadata": {},
   "outputs": [
    {
     "data": {
      "text/plain": [
       "np.int64(1)"
      ]
     },
     "execution_count": 51,
     "metadata": {},
     "output_type": "execute_result"
    }
   ],
   "source": [
    "#sku must be unique,we check if there is any duplicated sku\n",
    "copy_products_df['sku'].duplicated().sum()"
   ]
  },
  {
   "cell_type": "code",
   "execution_count": 52,
   "id": "bbaff38f-58a4-4984-864d-90edaa632194",
   "metadata": {},
   "outputs": [
    {
     "data": {
      "text/html": [
       "<div>\n",
       "<style scoped>\n",
       "    .dataframe tbody tr th:only-of-type {\n",
       "        vertical-align: middle;\n",
       "    }\n",
       "\n",
       "    .dataframe tbody tr th {\n",
       "        vertical-align: top;\n",
       "    }\n",
       "\n",
       "    .dataframe thead th {\n",
       "        text-align: right;\n",
       "    }\n",
       "</style>\n",
       "<table border=\"1\" class=\"dataframe\">\n",
       "  <thead>\n",
       "    <tr style=\"text-align: right;\">\n",
       "      <th></th>\n",
       "      <th>sku</th>\n",
       "      <th>name</th>\n",
       "      <th>desc</th>\n",
       "      <th>price</th>\n",
       "      <th>promo_price</th>\n",
       "      <th>in_stock</th>\n",
       "      <th>type</th>\n",
       "    </tr>\n",
       "  </thead>\n",
       "  <tbody>\n",
       "    <tr>\n",
       "      <th>2805</th>\n",
       "      <td>APP1197</td>\n",
       "      <td>Apple iMac 21.5 \"Core i5 31 GHz Retina display...</td>\n",
       "      <td>Desktop Apple iMac 21.5 inch i5 31 GHz Retina ...</td>\n",
       "      <td>NaN</td>\n",
       "      <td>1305.59</td>\n",
       "      <td>0</td>\n",
       "      <td>1282</td>\n",
       "    </tr>\n",
       "  </tbody>\n",
       "</table>\n",
       "</div>"
      ],
      "text/plain": [
       "          sku                                               name  \\\n",
       "2805  APP1197  Apple iMac 21.5 \"Core i5 31 GHz Retina display...   \n",
       "\n",
       "                                                   desc price promo_price  \\\n",
       "2805  Desktop Apple iMac 21.5 inch i5 31 GHz Retina ...   NaN     1305.59   \n",
       "\n",
       "      in_stock  type  \n",
       "2805         0  1282  "
      ]
     },
     "execution_count": 52,
     "metadata": {},
     "output_type": "execute_result"
    }
   ],
   "source": [
    "#which sku is duplicated\n",
    "sku_duplicated_mask=copy_products_df['sku'].duplicated()\n",
    "copy_products_df.loc[sku_duplicated_mask]"
   ]
  },
  {
   "cell_type": "code",
   "execution_count": 53,
   "id": "77fcc742-068f-4f74-bf0a-99871f8a7f1a",
   "metadata": {},
   "outputs": [
    {
     "data": {
      "text/html": [
       "<div>\n",
       "<style scoped>\n",
       "    .dataframe tbody tr th:only-of-type {\n",
       "        vertical-align: middle;\n",
       "    }\n",
       "\n",
       "    .dataframe tbody tr th {\n",
       "        vertical-align: top;\n",
       "    }\n",
       "\n",
       "    .dataframe thead th {\n",
       "        text-align: right;\n",
       "    }\n",
       "</style>\n",
       "<table border=\"1\" class=\"dataframe\">\n",
       "  <thead>\n",
       "    <tr style=\"text-align: right;\">\n",
       "      <th></th>\n",
       "      <th>sku</th>\n",
       "      <th>name</th>\n",
       "      <th>desc</th>\n",
       "      <th>price</th>\n",
       "      <th>promo_price</th>\n",
       "      <th>in_stock</th>\n",
       "      <th>type</th>\n",
       "    </tr>\n",
       "  </thead>\n",
       "  <tbody>\n",
       "    <tr>\n",
       "      <th>2804</th>\n",
       "      <td>APP1197</td>\n",
       "      <td>Apple iMac 21.5 \"Core i5 31 GHz Retina display...</td>\n",
       "      <td>Desktop Apple iMac 21.5 inch i5 31 GHz Retina ...</td>\n",
       "      <td>1729</td>\n",
       "      <td>1305.59</td>\n",
       "      <td>0</td>\n",
       "      <td>1282</td>\n",
       "    </tr>\n",
       "    <tr>\n",
       "      <th>2805</th>\n",
       "      <td>APP1197</td>\n",
       "      <td>Apple iMac 21.5 \"Core i5 31 GHz Retina display...</td>\n",
       "      <td>Desktop Apple iMac 21.5 inch i5 31 GHz Retina ...</td>\n",
       "      <td>NaN</td>\n",
       "      <td>1305.59</td>\n",
       "      <td>0</td>\n",
       "      <td>1282</td>\n",
       "    </tr>\n",
       "  </tbody>\n",
       "</table>\n",
       "</div>"
      ],
      "text/plain": [
       "          sku                                               name  \\\n",
       "2804  APP1197  Apple iMac 21.5 \"Core i5 31 GHz Retina display...   \n",
       "2805  APP1197  Apple iMac 21.5 \"Core i5 31 GHz Retina display...   \n",
       "\n",
       "                                                   desc price promo_price  \\\n",
       "2804  Desktop Apple iMac 21.5 inch i5 31 GHz Retina ...  1729     1305.59   \n",
       "2805  Desktop Apple iMac 21.5 inch i5 31 GHz Retina ...   NaN     1305.59   \n",
       "\n",
       "      in_stock  type  \n",
       "2804         0  1282  \n",
       "2805         0  1282  "
      ]
     },
     "execution_count": 53,
     "metadata": {},
     "output_type": "execute_result"
    }
   ],
   "source": [
    "#see the duplicated sku rows\n",
    "copy_products_df.loc[copy_products_df['sku']=='APP1197']"
   ]
  },
  {
   "cell_type": "code",
   "execution_count": 54,
   "id": "07475f61-e39b-44ea-86dd-3712c2d75df5",
   "metadata": {},
   "outputs": [],
   "source": [
    "#drop one of the duplicated sku rows\n",
    "copy_products_df.drop(2805,inplace=True)"
   ]
  },
  {
   "cell_type": "code",
   "execution_count": 55,
   "id": "b5fafafc-89ec-4068-a3eb-4a7113c10893",
   "metadata": {},
   "outputs": [
    {
     "data": {
      "text/plain": [
       "np.int64(0)"
      ]
     },
     "execution_count": 55,
     "metadata": {},
     "output_type": "execute_result"
    }
   ],
   "source": [
    "copy_products_df['sku'].duplicated().sum()"
   ]
  },
  {
   "cell_type": "code",
   "execution_count": 56,
   "id": "200190e5-eb60-4bdb-8810-15cc8b4b9126",
   "metadata": {},
   "outputs": [
    {
     "data": {
      "text/plain": [
       "np.int64(0)"
      ]
     },
     "execution_count": 56,
     "metadata": {},
     "output_type": "execute_result"
    }
   ],
   "source": [
    "#check if duplicated sku is droped\n",
    "copy_products_df['sku'].duplicated().sum()"
   ]
  },
  {
   "cell_type": "code",
   "execution_count": 57,
   "id": "7df9e560-7ae7-4e8d-901e-3f938f6591d7",
   "metadata": {},
   "outputs": [
    {
     "data": {
      "text/plain": [
       "sku             0\n",
       "name            0\n",
       "desc            7\n",
       "price          45\n",
       "promo_price     0\n",
       "in_stock        0\n",
       "type           50\n",
       "dtype: int64"
      ]
     },
     "execution_count": 57,
     "metadata": {},
     "output_type": "execute_result"
    }
   ],
   "source": [
    "#check where we have null values in products\n",
    "copy_products_df.isnull().sum()"
   ]
  },
  {
   "cell_type": "code",
   "execution_count": 58,
   "id": "35b2e0a5-de5f-42d0-a7c9-055ab2097ea7",
   "metadata": {},
   "outputs": [],
   "source": [
    "#we can replace null descriptions with unknown\n",
    "copy_products_df.loc[copy_products_df['desc'].isnull(),'desc']='unknown'"
   ]
  },
  {
   "cell_type": "code",
   "execution_count": 59,
   "id": "684f0efd-b192-47e9-af3f-cfe32dcc008e",
   "metadata": {},
   "outputs": [],
   "source": [
    "#because price is an important column, we need to drop those rows with null prices\n",
    "copy_products_df.dropna(subset='price',inplace=True)"
   ]
  },
  {
   "cell_type": "code",
   "execution_count": 60,
   "id": "7ea3a892-e7db-4b98-a17f-0ecc92ebb451",
   "metadata": {},
   "outputs": [],
   "source": [
    "# we can replace null types with 0\n",
    "copy_products_df.loc[copy_products_df['type'].isnull(),'type']=0"
   ]
  },
  {
   "cell_type": "code",
   "execution_count": 61,
   "id": "e02aeb5e-eea6-45ab-a1f2-3f9cf922fef2",
   "metadata": {},
   "outputs": [
    {
     "data": {
      "text/plain": [
       "sku            0\n",
       "name           0\n",
       "desc           0\n",
       "price          0\n",
       "promo_price    0\n",
       "in_stock       0\n",
       "type           0\n",
       "dtype: int64"
      ]
     },
     "execution_count": 61,
     "metadata": {},
     "output_type": "execute_result"
    }
   ],
   "source": [
    "#we dont have any null values in products data frame anymore\n",
    "copy_products_df.isnull().sum()"
   ]
  },
  {
   "cell_type": "code",
   "execution_count": 62,
   "id": "b41e333e-f9e0-4523-9575-4a8bc702e229",
   "metadata": {},
   "outputs": [],
   "source": [
    "# price and promo_price needs to be converted into float type "
   ]
  },
  {
   "cell_type": "code",
   "execution_count": 63,
   "id": "d8a74154-cf2b-4236-8e3f-e2a668165677",
   "metadata": {},
   "outputs": [],
   "source": [
    "#if you try to convert them you get an error\n",
    "# pd.to_numeric(copy_products_df['price'])\n",
    "# pd.to_numeric(copy_products_df['promo_price'])\n",
    "# It seems that we have some unsual prices with two periods in them"
   ]
  },
  {
   "cell_type": "code",
   "execution_count": 64,
   "id": "dd4ced14-83bf-46b1-823c-270e1a0408ee",
   "metadata": {},
   "outputs": [
    {
     "data": {
      "text/plain": [
       "price\n",
       "False    0.964211\n",
       "True     0.035789\n",
       "Name: proportion, dtype: float64"
      ]
     },
     "execution_count": 64,
     "metadata": {},
     "output_type": "execute_result"
    }
   ],
   "source": [
    "#lets see how many unusual prices do we have\n",
    "(copy_products_df['price'].str.count(r'\\.')>1).value_counts(normalize=True)"
   ]
  },
  {
   "cell_type": "code",
   "execution_count": 65,
   "id": "aa2e9f2c-e0f4-47ce-9629-f85c088bfea9",
   "metadata": {},
   "outputs": [
    {
     "data": {
      "text/html": [
       "<div>\n",
       "<style scoped>\n",
       "    .dataframe tbody tr th:only-of-type {\n",
       "        vertical-align: middle;\n",
       "    }\n",
       "\n",
       "    .dataframe tbody tr th {\n",
       "        vertical-align: top;\n",
       "    }\n",
       "\n",
       "    .dataframe thead th {\n",
       "        text-align: right;\n",
       "    }\n",
       "</style>\n",
       "<table border=\"1\" class=\"dataframe\">\n",
       "  <thead>\n",
       "    <tr style=\"text-align: right;\">\n",
       "      <th></th>\n",
       "      <th>promo_price</th>\n",
       "      <th>proportion</th>\n",
       "    </tr>\n",
       "  </thead>\n",
       "  <tbody>\n",
       "    <tr>\n",
       "      <th>0</th>\n",
       "      <td>False</td>\n",
       "      <td>0.563604</td>\n",
       "    </tr>\n",
       "    <tr>\n",
       "      <th>1</th>\n",
       "      <td>True</td>\n",
       "      <td>0.436396</td>\n",
       "    </tr>\n",
       "  </tbody>\n",
       "</table>\n",
       "</div>"
      ],
      "text/plain": [
       "   promo_price  proportion\n",
       "0        False    0.563604\n",
       "1         True    0.436396"
      ]
     },
     "execution_count": 65,
     "metadata": {},
     "output_type": "execute_result"
    }
   ],
   "source": [
    "#lets see how many unusual promotion prices do we have\n",
    "(copy_products_df['promo_price'].str.count(r'\\.')>1).value_counts(normalize=True).reset_index()"
   ]
  },
  {
   "cell_type": "code",
   "execution_count": 66,
   "id": "20835e3b-16d0-4833-824c-ea8f78580992",
   "metadata": {},
   "outputs": [
    {
     "data": {
      "text/plain": [
       "False    0.973799\n",
       "True     0.026201\n",
       "Name: proportion, dtype: float64"
      ]
     },
     "execution_count": 66,
     "metadata": {},
     "output_type": "execute_result"
    }
   ],
   "source": [
    "#lets see how many unusula price and promotion price do we have\n",
    "((copy_products_df['promo_price'].str.count(r'\\.')>1) & (copy_products_df['price'].str.count(r'\\.')>1)).value_counts(normalize=True)"
   ]
  },
  {
   "cell_type": "code",
   "execution_count": 67,
   "id": "78cb0e10-68cf-40e4-9a68-fae43295d693",
   "metadata": {},
   "outputs": [],
   "source": [
    "# As around 43 percent of promotion prices are corrupted, we just have to drop the column\n",
    "# This is an important column but we have a dynamic unit_price in orderlines which can represent the promotion price very good\n",
    "copy_products_df.drop('promo_price',axis=1,inplace=True)"
   ]
  },
  {
   "cell_type": "code",
   "execution_count": 68,
   "id": "56595246-b3b2-4cd5-8216-6379e98aff5a",
   "metadata": {},
   "outputs": [
    {
     "data": {
      "text/html": [
       "<div>\n",
       "<style scoped>\n",
       "    .dataframe tbody tr th:only-of-type {\n",
       "        vertical-align: middle;\n",
       "    }\n",
       "\n",
       "    .dataframe tbody tr th {\n",
       "        vertical-align: top;\n",
       "    }\n",
       "\n",
       "    .dataframe thead th {\n",
       "        text-align: right;\n",
       "    }\n",
       "</style>\n",
       "<table border=\"1\" class=\"dataframe\">\n",
       "  <thead>\n",
       "    <tr style=\"text-align: right;\">\n",
       "      <th></th>\n",
       "      <th>price</th>\n",
       "      <th>unit_price</th>\n",
       "    </tr>\n",
       "  </thead>\n",
       "  <tbody>\n",
       "    <tr>\n",
       "      <th>138</th>\n",
       "      <td>1.639.792</td>\n",
       "      <td>128.99</td>\n",
       "    </tr>\n",
       "    <tr>\n",
       "      <th>2196</th>\n",
       "      <td>42.917.885</td>\n",
       "      <td>3.637.90</td>\n",
       "    </tr>\n",
       "    <tr>\n",
       "      <th>4251</th>\n",
       "      <td>2.499.013</td>\n",
       "      <td>24.99</td>\n",
       "    </tr>\n",
       "    <tr>\n",
       "      <th>3111</th>\n",
       "      <td>115.900.092</td>\n",
       "      <td>1.159.00</td>\n",
       "    </tr>\n",
       "    <tr>\n",
       "      <th>528</th>\n",
       "      <td>1.639.792</td>\n",
       "      <td>160.19</td>\n",
       "    </tr>\n",
       "    <tr>\n",
       "      <th>3941</th>\n",
       "      <td>13.290.011</td>\n",
       "      <td>1.329.00</td>\n",
       "    </tr>\n",
       "    <tr>\n",
       "      <th>3477</th>\n",
       "      <td>115.900.092</td>\n",
       "      <td>1.159.00</td>\n",
       "    </tr>\n",
       "    <tr>\n",
       "      <th>3731</th>\n",
       "      <td>13.290.011</td>\n",
       "      <td>1.329.00</td>\n",
       "    </tr>\n",
       "    <tr>\n",
       "      <th>514</th>\n",
       "      <td>1.639.792</td>\n",
       "      <td>158.99</td>\n",
       "    </tr>\n",
       "    <tr>\n",
       "      <th>4133</th>\n",
       "      <td>13.290.011</td>\n",
       "      <td>1.329.00</td>\n",
       "    </tr>\n",
       "    <tr>\n",
       "      <th>1162</th>\n",
       "      <td>1.728.001</td>\n",
       "      <td>7.99</td>\n",
       "    </tr>\n",
       "    <tr>\n",
       "      <th>2907</th>\n",
       "      <td>115.900.092</td>\n",
       "      <td>1.159.00</td>\n",
       "    </tr>\n",
       "    <tr>\n",
       "      <th>1492</th>\n",
       "      <td>5.528.115</td>\n",
       "      <td>527.99</td>\n",
       "    </tr>\n",
       "    <tr>\n",
       "      <th>3895</th>\n",
       "      <td>13.290.011</td>\n",
       "      <td>1.329.00</td>\n",
       "    </tr>\n",
       "    <tr>\n",
       "      <th>673</th>\n",
       "      <td>5.428.121</td>\n",
       "      <td>518.99</td>\n",
       "    </tr>\n",
       "    <tr>\n",
       "      <th>3590</th>\n",
       "      <td>13.290.011</td>\n",
       "      <td>1.329.00</td>\n",
       "    </tr>\n",
       "    <tr>\n",
       "      <th>2006</th>\n",
       "      <td>8.276.703</td>\n",
       "      <td>840.33</td>\n",
       "    </tr>\n",
       "    <tr>\n",
       "      <th>3700</th>\n",
       "      <td>13.290.011</td>\n",
       "      <td>1.329.00</td>\n",
       "    </tr>\n",
       "    <tr>\n",
       "      <th>3220</th>\n",
       "      <td>115.900.092</td>\n",
       "      <td>1.139.00</td>\n",
       "    </tr>\n",
       "    <tr>\n",
       "      <th>3304</th>\n",
       "      <td>115.900.092</td>\n",
       "      <td>1.139.00</td>\n",
       "    </tr>\n",
       "    <tr>\n",
       "      <th>905</th>\n",
       "      <td>4.528.062</td>\n",
       "      <td>45.28</td>\n",
       "    </tr>\n",
       "    <tr>\n",
       "      <th>393</th>\n",
       "      <td>1.639.792</td>\n",
       "      <td>158.99</td>\n",
       "    </tr>\n",
       "    <tr>\n",
       "      <th>3254</th>\n",
       "      <td>115.900.092</td>\n",
       "      <td>1.139.00</td>\n",
       "    </tr>\n",
       "    <tr>\n",
       "      <th>1465</th>\n",
       "      <td>6.336.689</td>\n",
       "      <td>549.99</td>\n",
       "    </tr>\n",
       "    <tr>\n",
       "      <th>4285</th>\n",
       "      <td>1.299.891</td>\n",
       "      <td>129.99</td>\n",
       "    </tr>\n",
       "    <tr>\n",
       "      <th>2370</th>\n",
       "      <td>1.990.002</td>\n",
       "      <td>189.05</td>\n",
       "    </tr>\n",
       "    <tr>\n",
       "      <th>107</th>\n",
       "      <td>1.639.792</td>\n",
       "      <td>128.99</td>\n",
       "    </tr>\n",
       "    <tr>\n",
       "      <th>1051</th>\n",
       "      <td>2.499.013</td>\n",
       "      <td>17.56</td>\n",
       "    </tr>\n",
       "    <tr>\n",
       "      <th>3423</th>\n",
       "      <td>115.900.092</td>\n",
       "      <td>1.159.00</td>\n",
       "    </tr>\n",
       "    <tr>\n",
       "      <th>2280</th>\n",
       "      <td>237.559.421</td>\n",
       "      <td>NaN</td>\n",
       "    </tr>\n",
       "    <tr>\n",
       "      <th>3898</th>\n",
       "      <td>13.290.011</td>\n",
       "      <td>1.329.00</td>\n",
       "    </tr>\n",
       "    <tr>\n",
       "      <th>3349</th>\n",
       "      <td>115.900.092</td>\n",
       "      <td>1.159.00</td>\n",
       "    </tr>\n",
       "    <tr>\n",
       "      <th>3693</th>\n",
       "      <td>13.290.011</td>\n",
       "      <td>1.329.00</td>\n",
       "    </tr>\n",
       "    <tr>\n",
       "      <th>1222</th>\n",
       "      <td>1.728.001</td>\n",
       "      <td>17.28</td>\n",
       "    </tr>\n",
       "    <tr>\n",
       "      <th>3397</th>\n",
       "      <td>115.900.092</td>\n",
       "      <td>1.159.00</td>\n",
       "    </tr>\n",
       "    <tr>\n",
       "      <th>469</th>\n",
       "      <td>1.639.792</td>\n",
       "      <td>158.99</td>\n",
       "    </tr>\n",
       "    <tr>\n",
       "      <th>3484</th>\n",
       "      <td>115.900.092</td>\n",
       "      <td>1.159.00</td>\n",
       "    </tr>\n",
       "    <tr>\n",
       "      <th>3517</th>\n",
       "      <td>115.900.092</td>\n",
       "      <td>1.159.00</td>\n",
       "    </tr>\n",
       "    <tr>\n",
       "      <th>3389</th>\n",
       "      <td>115.900.092</td>\n",
       "      <td>1.159.00</td>\n",
       "    </tr>\n",
       "    <tr>\n",
       "      <th>119</th>\n",
       "      <td>1.639.792</td>\n",
       "      <td>128.99</td>\n",
       "    </tr>\n",
       "    <tr>\n",
       "      <th>1927</th>\n",
       "      <td>8.276.703</td>\n",
       "      <td>879.00</td>\n",
       "    </tr>\n",
       "    <tr>\n",
       "      <th>3448</th>\n",
       "      <td>115.900.092</td>\n",
       "      <td>1.159.00</td>\n",
       "    </tr>\n",
       "    <tr>\n",
       "      <th>239</th>\n",
       "      <td>1.639.792</td>\n",
       "      <td>130.99</td>\n",
       "    </tr>\n",
       "    <tr>\n",
       "      <th>2568</th>\n",
       "      <td>1.990.002</td>\n",
       "      <td>191.00</td>\n",
       "    </tr>\n",
       "    <tr>\n",
       "      <th>2262</th>\n",
       "      <td>49.655.944</td>\n",
       "      <td>NaN</td>\n",
       "    </tr>\n",
       "    <tr>\n",
       "      <th>2219</th>\n",
       "      <td>11.578.692</td>\n",
       "      <td>1.117.99</td>\n",
       "    </tr>\n",
       "    <tr>\n",
       "      <th>3338</th>\n",
       "      <td>115.900.092</td>\n",
       "      <td>1.139.00</td>\n",
       "    </tr>\n",
       "    <tr>\n",
       "      <th>1907</th>\n",
       "      <td>8.276.703</td>\n",
       "      <td>879.00</td>\n",
       "    </tr>\n",
       "    <tr>\n",
       "      <th>706</th>\n",
       "      <td>5.428.121</td>\n",
       "      <td>539.00</td>\n",
       "    </tr>\n",
       "    <tr>\n",
       "      <th>4310</th>\n",
       "      <td>6.999.003</td>\n",
       "      <td>NaN</td>\n",
       "    </tr>\n",
       "  </tbody>\n",
       "</table>\n",
       "</div>"
      ],
      "text/plain": [
       "            price unit_price\n",
       "138     1.639.792     128.99\n",
       "2196   42.917.885   3.637.90\n",
       "4251    2.499.013      24.99\n",
       "3111  115.900.092   1.159.00\n",
       "528     1.639.792     160.19\n",
       "3941   13.290.011   1.329.00\n",
       "3477  115.900.092   1.159.00\n",
       "3731   13.290.011   1.329.00\n",
       "514     1.639.792     158.99\n",
       "4133   13.290.011   1.329.00\n",
       "1162    1.728.001       7.99\n",
       "2907  115.900.092   1.159.00\n",
       "1492    5.528.115     527.99\n",
       "3895   13.290.011   1.329.00\n",
       "673     5.428.121     518.99\n",
       "3590   13.290.011   1.329.00\n",
       "2006    8.276.703     840.33\n",
       "3700   13.290.011   1.329.00\n",
       "3220  115.900.092   1.139.00\n",
       "3304  115.900.092   1.139.00\n",
       "905     4.528.062      45.28\n",
       "393     1.639.792     158.99\n",
       "3254  115.900.092   1.139.00\n",
       "1465    6.336.689     549.99\n",
       "4285    1.299.891     129.99\n",
       "2370    1.990.002     189.05\n",
       "107     1.639.792     128.99\n",
       "1051    2.499.013      17.56\n",
       "3423  115.900.092   1.159.00\n",
       "2280  237.559.421        NaN\n",
       "3898   13.290.011   1.329.00\n",
       "3349  115.900.092   1.159.00\n",
       "3693   13.290.011   1.329.00\n",
       "1222    1.728.001      17.28\n",
       "3397  115.900.092   1.159.00\n",
       "469     1.639.792     158.99\n",
       "3484  115.900.092   1.159.00\n",
       "3517  115.900.092   1.159.00\n",
       "3389  115.900.092   1.159.00\n",
       "119     1.639.792     128.99\n",
       "1927    8.276.703     879.00\n",
       "3448  115.900.092   1.159.00\n",
       "239     1.639.792     130.99\n",
       "2568    1.990.002     191.00\n",
       "2262   49.655.944        NaN\n",
       "2219   11.578.692   1.117.99\n",
       "3338  115.900.092   1.139.00\n",
       "1907    8.276.703     879.00\n",
       "706     5.428.121     539.00\n",
       "4310    6.999.003        NaN"
      ]
     },
     "execution_count": 68,
     "metadata": {},
     "output_type": "execute_result"
    }
   ],
   "source": [
    "#lets take a look of those prices that are corrupted to maybe find some correlation to fix them\n",
    "#we make a numberic_price that its value is either price for not corrputed values and null for corrupted ones\n",
    "copy_products_df['numeric_price']=pd.to_numeric(copy_products_df['price'],errors='coerce')\n",
    "corrupted_price_copy_products_df=copy_products_df.loc[copy_products_df['numeric_price'].isnull(),]\n",
    "# to look for a correlation we need to take a look at promotion price for these skus, so we merge this df with orderlines\n",
    "corrupted_price_products_orderlines_merged=corrupted_price_copy_products_df.merge(copy_orderlines_df,on='sku',how='left')\n",
    "corrupted_price_products_orderlines_merged.loc[:,['price','unit_price']].sample(50)\n",
    "# It seems that we do not have any correlatin and the only way is to drop the small porion of corrupted prices"
   ]
  },
  {
   "cell_type": "code",
   "execution_count": 69,
   "id": "3efe3406-94e2-460d-ae8f-6dc402c82f12",
   "metadata": {},
   "outputs": [],
   "source": [
    "# we drop the rows with unusual prices\n",
    "copy_products_df=copy_products_df[copy_products_df['price'].str.count(r'\\.')==1]"
   ]
  },
  {
   "cell_type": "code",
   "execution_count": 70,
   "id": "439b7d99-d143-4f4e-8a3a-7bb8e9e979f4",
   "metadata": {},
   "outputs": [],
   "source": [
    "# now we can convert prices to numeric\n",
    "copy_products_df.loc[:,'price']=pd.to_numeric(copy_products_df['price'])"
   ]
  },
  {
   "cell_type": "code",
   "execution_count": 71,
   "id": "b0b68be6-ff84-45be-a42d-3923680cf294",
   "metadata": {},
   "outputs": [],
   "source": [
    "#and also we dont need numeric price anymore\n",
    "copy_products_df.drop('numeric_price',axis=1,inplace=True)"
   ]
  },
  {
   "cell_type": "code",
   "execution_count": 72,
   "id": "d35aa821-5fab-4081-95f2-e2641d98794b",
   "metadata": {},
   "outputs": [
    {
     "name": "stdout",
     "output_type": "stream",
     "text": [
      "<class 'pandas.core.frame.DataFrame'>\n",
      "Index: 6942 entries, 0 to 10579\n",
      "Data columns (total 6 columns):\n",
      " #   Column    Non-Null Count  Dtype \n",
      "---  ------    --------------  ----- \n",
      " 0   sku       6942 non-null   object\n",
      " 1   name      6942 non-null   object\n",
      " 2   desc      6942 non-null   object\n",
      " 3   price     6942 non-null   object\n",
      " 4   in_stock  6942 non-null   int64 \n",
      " 5   type      6942 non-null   object\n",
      "dtypes: int64(1), object(5)\n",
      "memory usage: 379.6+ KB\n"
     ]
    }
   ],
   "source": [
    "#check if now the tyes are correct\n",
    "copy_products_df.info()"
   ]
  },
  {
   "cell_type": "code",
   "execution_count": 73,
   "id": "d6d01c2c-48a9-459d-9b51-a11ec7a65e0f",
   "metadata": {},
   "outputs": [],
   "source": [
    "# we need to reset indexes after the cleaning is finished \n",
    "copy_products_df.reset_index(drop=True,inplace=True)"
   ]
  },
  {
   "cell_type": "code",
   "execution_count": 74,
   "id": "7f480f0a-3479-4577-a84f-531d92a6e1aa",
   "metadata": {},
   "outputs": [
    {
     "ename": "IsADirectoryError",
     "evalue": "[Errno 21] Is a directory: '../data/clean'",
     "output_type": "error",
     "traceback": [
      "\u001b[31m---------------------------------------------------------------------------\u001b[39m",
      "\u001b[31mIsADirectoryError\u001b[39m                         Traceback (most recent call last)",
      "\u001b[36mCell\u001b[39m\u001b[36m \u001b[39m\u001b[32mIn[74]\u001b[39m\u001b[32m, line 1\u001b[39m\n\u001b[32m----> \u001b[39m\u001b[32m1\u001b[39m \u001b[43mcopy_products_df\u001b[49m\u001b[43m.\u001b[49m\u001b[43mto_csv\u001b[49m\u001b[43m(\u001b[49m\u001b[33;43m'\u001b[39;49m\u001b[33;43m../data/clean\u001b[39;49m\u001b[33;43m'\u001b[39;49m\u001b[43m)\u001b[49m\n",
      "\u001b[36mFile \u001b[39m\u001b[32m~/Desktop/projects/ENIAC-discounts-strategy/venv/lib/python3.13/site-packages/pandas/util/_decorators.py:333\u001b[39m, in \u001b[36mdeprecate_nonkeyword_arguments.<locals>.decorate.<locals>.wrapper\u001b[39m\u001b[34m(*args, **kwargs)\u001b[39m\n\u001b[32m    327\u001b[39m \u001b[38;5;28;01mif\u001b[39;00m \u001b[38;5;28mlen\u001b[39m(args) > num_allow_args:\n\u001b[32m    328\u001b[39m     warnings.warn(\n\u001b[32m    329\u001b[39m         msg.format(arguments=_format_argument_list(allow_args)),\n\u001b[32m    330\u001b[39m         \u001b[38;5;167;01mFutureWarning\u001b[39;00m,\n\u001b[32m    331\u001b[39m         stacklevel=find_stack_level(),\n\u001b[32m    332\u001b[39m     )\n\u001b[32m--> \u001b[39m\u001b[32m333\u001b[39m \u001b[38;5;28;01mreturn\u001b[39;00m \u001b[43mfunc\u001b[49m\u001b[43m(\u001b[49m\u001b[43m*\u001b[49m\u001b[43margs\u001b[49m\u001b[43m,\u001b[49m\u001b[43m \u001b[49m\u001b[43m*\u001b[49m\u001b[43m*\u001b[49m\u001b[43mkwargs\u001b[49m\u001b[43m)\u001b[49m\n",
      "\u001b[36mFile \u001b[39m\u001b[32m~/Desktop/projects/ENIAC-discounts-strategy/venv/lib/python3.13/site-packages/pandas/core/generic.py:3986\u001b[39m, in \u001b[36mNDFrame.to_csv\u001b[39m\u001b[34m(self, path_or_buf, sep, na_rep, float_format, columns, header, index, index_label, mode, encoding, compression, quoting, quotechar, lineterminator, chunksize, date_format, doublequote, escapechar, decimal, errors, storage_options)\u001b[39m\n\u001b[32m   3975\u001b[39m df = \u001b[38;5;28mself\u001b[39m \u001b[38;5;28;01mif\u001b[39;00m \u001b[38;5;28misinstance\u001b[39m(\u001b[38;5;28mself\u001b[39m, ABCDataFrame) \u001b[38;5;28;01melse\u001b[39;00m \u001b[38;5;28mself\u001b[39m.to_frame()\n\u001b[32m   3977\u001b[39m formatter = DataFrameFormatter(\n\u001b[32m   3978\u001b[39m     frame=df,\n\u001b[32m   3979\u001b[39m     header=header,\n\u001b[32m   (...)\u001b[39m\u001b[32m   3983\u001b[39m     decimal=decimal,\n\u001b[32m   3984\u001b[39m )\n\u001b[32m-> \u001b[39m\u001b[32m3986\u001b[39m \u001b[38;5;28;01mreturn\u001b[39;00m \u001b[43mDataFrameRenderer\u001b[49m\u001b[43m(\u001b[49m\u001b[43mformatter\u001b[49m\u001b[43m)\u001b[49m\u001b[43m.\u001b[49m\u001b[43mto_csv\u001b[49m\u001b[43m(\u001b[49m\n\u001b[32m   3987\u001b[39m \u001b[43m    \u001b[49m\u001b[43mpath_or_buf\u001b[49m\u001b[43m,\u001b[49m\n\u001b[32m   3988\u001b[39m \u001b[43m    \u001b[49m\u001b[43mlineterminator\u001b[49m\u001b[43m=\u001b[49m\u001b[43mlineterminator\u001b[49m\u001b[43m,\u001b[49m\n\u001b[32m   3989\u001b[39m \u001b[43m    \u001b[49m\u001b[43msep\u001b[49m\u001b[43m=\u001b[49m\u001b[43msep\u001b[49m\u001b[43m,\u001b[49m\n\u001b[32m   3990\u001b[39m \u001b[43m    \u001b[49m\u001b[43mencoding\u001b[49m\u001b[43m=\u001b[49m\u001b[43mencoding\u001b[49m\u001b[43m,\u001b[49m\n\u001b[32m   3991\u001b[39m \u001b[43m    \u001b[49m\u001b[43merrors\u001b[49m\u001b[43m=\u001b[49m\u001b[43merrors\u001b[49m\u001b[43m,\u001b[49m\n\u001b[32m   3992\u001b[39m \u001b[43m    \u001b[49m\u001b[43mcompression\u001b[49m\u001b[43m=\u001b[49m\u001b[43mcompression\u001b[49m\u001b[43m,\u001b[49m\n\u001b[32m   3993\u001b[39m \u001b[43m    \u001b[49m\u001b[43mquoting\u001b[49m\u001b[43m=\u001b[49m\u001b[43mquoting\u001b[49m\u001b[43m,\u001b[49m\n\u001b[32m   3994\u001b[39m \u001b[43m    \u001b[49m\u001b[43mcolumns\u001b[49m\u001b[43m=\u001b[49m\u001b[43mcolumns\u001b[49m\u001b[43m,\u001b[49m\n\u001b[32m   3995\u001b[39m \u001b[43m    \u001b[49m\u001b[43mindex_label\u001b[49m\u001b[43m=\u001b[49m\u001b[43mindex_label\u001b[49m\u001b[43m,\u001b[49m\n\u001b[32m   3996\u001b[39m \u001b[43m    \u001b[49m\u001b[43mmode\u001b[49m\u001b[43m=\u001b[49m\u001b[43mmode\u001b[49m\u001b[43m,\u001b[49m\n\u001b[32m   3997\u001b[39m \u001b[43m    \u001b[49m\u001b[43mchunksize\u001b[49m\u001b[43m=\u001b[49m\u001b[43mchunksize\u001b[49m\u001b[43m,\u001b[49m\n\u001b[32m   3998\u001b[39m \u001b[43m    \u001b[49m\u001b[43mquotechar\u001b[49m\u001b[43m=\u001b[49m\u001b[43mquotechar\u001b[49m\u001b[43m,\u001b[49m\n\u001b[32m   3999\u001b[39m \u001b[43m    \u001b[49m\u001b[43mdate_format\u001b[49m\u001b[43m=\u001b[49m\u001b[43mdate_format\u001b[49m\u001b[43m,\u001b[49m\n\u001b[32m   4000\u001b[39m \u001b[43m    \u001b[49m\u001b[43mdoublequote\u001b[49m\u001b[43m=\u001b[49m\u001b[43mdoublequote\u001b[49m\u001b[43m,\u001b[49m\n\u001b[32m   4001\u001b[39m \u001b[43m    \u001b[49m\u001b[43mescapechar\u001b[49m\u001b[43m=\u001b[49m\u001b[43mescapechar\u001b[49m\u001b[43m,\u001b[49m\n\u001b[32m   4002\u001b[39m \u001b[43m    \u001b[49m\u001b[43mstorage_options\u001b[49m\u001b[43m=\u001b[49m\u001b[43mstorage_options\u001b[49m\u001b[43m,\u001b[49m\n\u001b[32m   4003\u001b[39m \u001b[43m\u001b[49m\u001b[43m)\u001b[49m\n",
      "\u001b[36mFile \u001b[39m\u001b[32m~/Desktop/projects/ENIAC-discounts-strategy/venv/lib/python3.13/site-packages/pandas/io/formats/format.py:1014\u001b[39m, in \u001b[36mDataFrameRenderer.to_csv\u001b[39m\u001b[34m(self, path_or_buf, encoding, sep, columns, index_label, mode, compression, quoting, quotechar, lineterminator, chunksize, date_format, doublequote, escapechar, errors, storage_options)\u001b[39m\n\u001b[32m    993\u001b[39m     created_buffer = \u001b[38;5;28;01mFalse\u001b[39;00m\n\u001b[32m    995\u001b[39m csv_formatter = CSVFormatter(\n\u001b[32m    996\u001b[39m     path_or_buf=path_or_buf,\n\u001b[32m    997\u001b[39m     lineterminator=lineterminator,\n\u001b[32m   (...)\u001b[39m\u001b[32m   1012\u001b[39m     formatter=\u001b[38;5;28mself\u001b[39m.fmt,\n\u001b[32m   1013\u001b[39m )\n\u001b[32m-> \u001b[39m\u001b[32m1014\u001b[39m \u001b[43mcsv_formatter\u001b[49m\u001b[43m.\u001b[49m\u001b[43msave\u001b[49m\u001b[43m(\u001b[49m\u001b[43m)\u001b[49m\n\u001b[32m   1016\u001b[39m \u001b[38;5;28;01mif\u001b[39;00m created_buffer:\n\u001b[32m   1017\u001b[39m     \u001b[38;5;28;01massert\u001b[39;00m \u001b[38;5;28misinstance\u001b[39m(path_or_buf, StringIO)\n",
      "\u001b[36mFile \u001b[39m\u001b[32m~/Desktop/projects/ENIAC-discounts-strategy/venv/lib/python3.13/site-packages/pandas/io/formats/csvs.py:251\u001b[39m, in \u001b[36mCSVFormatter.save\u001b[39m\u001b[34m(self)\u001b[39m\n\u001b[32m    247\u001b[39m \u001b[38;5;250m\u001b[39m\u001b[33;03m\"\"\"\u001b[39;00m\n\u001b[32m    248\u001b[39m \u001b[33;03mCreate the writer & save.\u001b[39;00m\n\u001b[32m    249\u001b[39m \u001b[33;03m\"\"\"\u001b[39;00m\n\u001b[32m    250\u001b[39m \u001b[38;5;66;03m# apply compression and byte/text conversion\u001b[39;00m\n\u001b[32m--> \u001b[39m\u001b[32m251\u001b[39m \u001b[38;5;28;01mwith\u001b[39;00m \u001b[43mget_handle\u001b[49m\u001b[43m(\u001b[49m\n\u001b[32m    252\u001b[39m \u001b[43m    \u001b[49m\u001b[38;5;28;43mself\u001b[39;49m\u001b[43m.\u001b[49m\u001b[43mfilepath_or_buffer\u001b[49m\u001b[43m,\u001b[49m\n\u001b[32m    253\u001b[39m \u001b[43m    \u001b[49m\u001b[38;5;28;43mself\u001b[39;49m\u001b[43m.\u001b[49m\u001b[43mmode\u001b[49m\u001b[43m,\u001b[49m\n\u001b[32m    254\u001b[39m \u001b[43m    \u001b[49m\u001b[43mencoding\u001b[49m\u001b[43m=\u001b[49m\u001b[38;5;28;43mself\u001b[39;49m\u001b[43m.\u001b[49m\u001b[43mencoding\u001b[49m\u001b[43m,\u001b[49m\n\u001b[32m    255\u001b[39m \u001b[43m    \u001b[49m\u001b[43merrors\u001b[49m\u001b[43m=\u001b[49m\u001b[38;5;28;43mself\u001b[39;49m\u001b[43m.\u001b[49m\u001b[43merrors\u001b[49m\u001b[43m,\u001b[49m\n\u001b[32m    256\u001b[39m \u001b[43m    \u001b[49m\u001b[43mcompression\u001b[49m\u001b[43m=\u001b[49m\u001b[38;5;28;43mself\u001b[39;49m\u001b[43m.\u001b[49m\u001b[43mcompression\u001b[49m\u001b[43m,\u001b[49m\n\u001b[32m    257\u001b[39m \u001b[43m    \u001b[49m\u001b[43mstorage_options\u001b[49m\u001b[43m=\u001b[49m\u001b[38;5;28;43mself\u001b[39;49m\u001b[43m.\u001b[49m\u001b[43mstorage_options\u001b[49m\u001b[43m,\u001b[49m\n\u001b[32m    258\u001b[39m \u001b[43m\u001b[49m\u001b[43m)\u001b[49m \u001b[38;5;28;01mas\u001b[39;00m handles:\n\u001b[32m    259\u001b[39m     \u001b[38;5;66;03m# Note: self.encoding is irrelevant here\u001b[39;00m\n\u001b[32m    260\u001b[39m     \u001b[38;5;28mself\u001b[39m.writer = csvlib.writer(\n\u001b[32m    261\u001b[39m         handles.handle,\n\u001b[32m    262\u001b[39m         lineterminator=\u001b[38;5;28mself\u001b[39m.lineterminator,\n\u001b[32m   (...)\u001b[39m\u001b[32m    267\u001b[39m         quotechar=\u001b[38;5;28mself\u001b[39m.quotechar,\n\u001b[32m    268\u001b[39m     )\n\u001b[32m    270\u001b[39m     \u001b[38;5;28mself\u001b[39m._save()\n",
      "\u001b[36mFile \u001b[39m\u001b[32m~/Desktop/projects/ENIAC-discounts-strategy/venv/lib/python3.13/site-packages/pandas/io/common.py:873\u001b[39m, in \u001b[36mget_handle\u001b[39m\u001b[34m(path_or_buf, mode, encoding, compression, memory_map, is_text, errors, storage_options)\u001b[39m\n\u001b[32m    868\u001b[39m \u001b[38;5;28;01melif\u001b[39;00m \u001b[38;5;28misinstance\u001b[39m(handle, \u001b[38;5;28mstr\u001b[39m):\n\u001b[32m    869\u001b[39m     \u001b[38;5;66;03m# Check whether the filename is to be opened in binary mode.\u001b[39;00m\n\u001b[32m    870\u001b[39m     \u001b[38;5;66;03m# Binary mode does not support 'encoding' and 'newline'.\u001b[39;00m\n\u001b[32m    871\u001b[39m     \u001b[38;5;28;01mif\u001b[39;00m ioargs.encoding \u001b[38;5;129;01mand\u001b[39;00m \u001b[33m\"\u001b[39m\u001b[33mb\u001b[39m\u001b[33m\"\u001b[39m \u001b[38;5;129;01mnot\u001b[39;00m \u001b[38;5;129;01min\u001b[39;00m ioargs.mode:\n\u001b[32m    872\u001b[39m         \u001b[38;5;66;03m# Encoding\u001b[39;00m\n\u001b[32m--> \u001b[39m\u001b[32m873\u001b[39m         handle = \u001b[38;5;28;43mopen\u001b[39;49m\u001b[43m(\u001b[49m\n\u001b[32m    874\u001b[39m \u001b[43m            \u001b[49m\u001b[43mhandle\u001b[49m\u001b[43m,\u001b[49m\n\u001b[32m    875\u001b[39m \u001b[43m            \u001b[49m\u001b[43mioargs\u001b[49m\u001b[43m.\u001b[49m\u001b[43mmode\u001b[49m\u001b[43m,\u001b[49m\n\u001b[32m    876\u001b[39m \u001b[43m            \u001b[49m\u001b[43mencoding\u001b[49m\u001b[43m=\u001b[49m\u001b[43mioargs\u001b[49m\u001b[43m.\u001b[49m\u001b[43mencoding\u001b[49m\u001b[43m,\u001b[49m\n\u001b[32m    877\u001b[39m \u001b[43m            \u001b[49m\u001b[43merrors\u001b[49m\u001b[43m=\u001b[49m\u001b[43merrors\u001b[49m\u001b[43m,\u001b[49m\n\u001b[32m    878\u001b[39m \u001b[43m            \u001b[49m\u001b[43mnewline\u001b[49m\u001b[43m=\u001b[49m\u001b[33;43m\"\u001b[39;49m\u001b[33;43m\"\u001b[39;49m\u001b[43m,\u001b[49m\n\u001b[32m    879\u001b[39m \u001b[43m        \u001b[49m\u001b[43m)\u001b[49m\n\u001b[32m    880\u001b[39m     \u001b[38;5;28;01melse\u001b[39;00m:\n\u001b[32m    881\u001b[39m         \u001b[38;5;66;03m# Binary mode\u001b[39;00m\n\u001b[32m    882\u001b[39m         handle = \u001b[38;5;28mopen\u001b[39m(handle, ioargs.mode)\n",
      "\u001b[31mIsADirectoryError\u001b[39m: [Errno 21] Is a directory: '../data/clean'"
     ]
    }
   ],
   "source": [
    "copy_products_df.to_csv('../data/clean')"
   ]
  },
  {
   "cell_type": "code",
   "execution_count": null,
   "id": "b1089a9c-c28d-4a67-b417-7b5e54d2997b",
   "metadata": {},
   "outputs": [],
   "source": []
  }
 ],
 "metadata": {
  "kernelspec": {
   "display_name": "Python 3 (ipykernel)",
   "language": "python",
   "name": "python3"
  },
  "language_info": {
   "codemirror_mode": {
    "name": "ipython",
    "version": 3
   },
   "file_extension": ".py",
   "mimetype": "text/x-python",
   "name": "python",
   "nbconvert_exporter": "python",
   "pygments_lexer": "ipython3",
   "version": "3.13.3"
  }
 },
 "nbformat": 4,
 "nbformat_minor": 5
}
