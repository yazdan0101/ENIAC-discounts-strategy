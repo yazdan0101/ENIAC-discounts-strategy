{
 "cells": [
  {
   "cell_type": "code",
   "execution_count": 88,
   "id": "259d4640-328a-4860-adde-12f46d67fd0a",
   "metadata": {},
   "outputs": [],
   "source": [
    "%run 'dataframes.ipynb'"
   ]
  },
  {
   "cell_type": "code",
   "execution_count": 89,
   "id": "c1f05da7-1204-4c3e-a891-0cc08b882464",
   "metadata": {},
   "outputs": [],
   "source": [
    "# make a copy of each dataframe\n",
    "copy_products_df=products_df.copy()\n",
    "copy_orders_df=orders_df.copy()\n",
    "copy_orderlines_df=orderlines_df.copy()\n",
    "copy_brands_df=brands_df.copy()"
   ]
  },
  {
   "cell_type": "markdown",
   "id": "6d198acb-17f7-4933-b740-c0766e396240",
   "metadata": {},
   "source": [
    "### Data cleaning\n",
    "#### Products"
   ]
  },
  {
   "cell_type": "code",
   "execution_count": 90,
   "id": "18950413-0a70-45b3-9459-baf9f8876c7f",
   "metadata": {},
   "outputs": [
    {
     "data": {
      "text/plain": [
       "np.int64(8746)"
      ]
     },
     "execution_count": 90,
     "metadata": {},
     "output_type": "execute_result"
    }
   ],
   "source": [
    "#calculate the count of duplicated rows\n",
    "copy_products_df.duplicated().sum()"
   ]
  },
  {
   "cell_type": "code",
   "execution_count": 91,
   "id": "fd4784a0-9a07-41fb-b690-f4fc00aa23a2",
   "metadata": {},
   "outputs": [
    {
     "data": {
      "text/html": [
       "<div>\n",
       "<style scoped>\n",
       "    .dataframe tbody tr th:only-of-type {\n",
       "        vertical-align: middle;\n",
       "    }\n",
       "\n",
       "    .dataframe tbody tr th {\n",
       "        vertical-align: top;\n",
       "    }\n",
       "\n",
       "    .dataframe thead th {\n",
       "        text-align: right;\n",
       "    }\n",
       "</style>\n",
       "<table border=\"1\" class=\"dataframe\">\n",
       "  <thead>\n",
       "    <tr style=\"text-align: right;\">\n",
       "      <th></th>\n",
       "      <th>sku</th>\n",
       "      <th>name</th>\n",
       "      <th>desc</th>\n",
       "      <th>price</th>\n",
       "      <th>promo_price</th>\n",
       "      <th>in_stock</th>\n",
       "      <th>type</th>\n",
       "    </tr>\n",
       "  </thead>\n",
       "  <tbody>\n",
       "    <tr>\n",
       "      <th>101</th>\n",
       "      <td>APP0390</td>\n",
       "      <td>Apple MacBook Pro 133 \"Core i5 25GHz | 4GB RAM...</td>\n",
       "      <td>MacBook Pro laptop 133 inches (MD101Y / A).</td>\n",
       "      <td>1199</td>\n",
       "      <td>11.455.917</td>\n",
       "      <td>0</td>\n",
       "      <td>1282</td>\n",
       "    </tr>\n",
       "    <tr>\n",
       "      <th>102</th>\n",
       "      <td>APP0390</td>\n",
       "      <td>Apple MacBook Pro 133 \"Core i5 25GHz | 4GB RAM...</td>\n",
       "      <td>MacBook Pro laptop 133 inches (MD101Y / A).</td>\n",
       "      <td>1199</td>\n",
       "      <td>11.455.917</td>\n",
       "      <td>0</td>\n",
       "      <td>1282</td>\n",
       "    </tr>\n",
       "    <tr>\n",
       "      <th>103</th>\n",
       "      <td>APP0390</td>\n",
       "      <td>Apple MacBook Pro 133 \"Core i5 25GHz | 4GB RAM...</td>\n",
       "      <td>MacBook Pro laptop 133 inches (MD101Y / A).</td>\n",
       "      <td>1199</td>\n",
       "      <td>11.455.917</td>\n",
       "      <td>0</td>\n",
       "      <td>1282</td>\n",
       "    </tr>\n",
       "    <tr>\n",
       "      <th>104</th>\n",
       "      <td>APP0390</td>\n",
       "      <td>Apple MacBook Pro 133 \"Core i5 25GHz | 4GB RAM...</td>\n",
       "      <td>MacBook Pro laptop 133 inches (MD101Y / A).</td>\n",
       "      <td>1199</td>\n",
       "      <td>11.455.917</td>\n",
       "      <td>0</td>\n",
       "      <td>1282</td>\n",
       "    </tr>\n",
       "    <tr>\n",
       "      <th>105</th>\n",
       "      <td>APP0390</td>\n",
       "      <td>Apple MacBook Pro 133 \"Core i5 25GHz | 4GB RAM...</td>\n",
       "      <td>MacBook Pro laptop 133 inches (MD101Y / A).</td>\n",
       "      <td>1199</td>\n",
       "      <td>11.455.917</td>\n",
       "      <td>0</td>\n",
       "      <td>1282</td>\n",
       "    </tr>\n",
       "    <tr>\n",
       "      <th>...</th>\n",
       "      <td>...</td>\n",
       "      <td>...</td>\n",
       "      <td>...</td>\n",
       "      <td>...</td>\n",
       "      <td>...</td>\n",
       "      <td>...</td>\n",
       "      <td>...</td>\n",
       "    </tr>\n",
       "    <tr>\n",
       "      <th>16831</th>\n",
       "      <td>APP2302</td>\n",
       "      <td>Apple MacBook Pro 13 \"Core i5 Touch Bar 33GHz ...</td>\n",
       "      <td>New MacBook Pro 13-inch Core i5 Touch Bar 33 G...</td>\n",
       "      <td>26.155.941</td>\n",
       "      <td>26.155.941</td>\n",
       "      <td>0</td>\n",
       "      <td>1,02E+12</td>\n",
       "    </tr>\n",
       "    <tr>\n",
       "      <th>16833</th>\n",
       "      <td>APP2303</td>\n",
       "      <td>Apple MacBook Pro 13 \"Core i5 Touch Bar 33GHz ...</td>\n",
       "      <td>New MacBook Pro 13 inch Touch Bar 33 GHz Core ...</td>\n",
       "      <td>237.559.421</td>\n",
       "      <td>23.755.942</td>\n",
       "      <td>0</td>\n",
       "      <td>1,02E+12</td>\n",
       "    </tr>\n",
       "    <tr>\n",
       "      <th>18190</th>\n",
       "      <td>PAR0077</td>\n",
       "      <td>Parrot Bebop Drone 2 Power</td>\n",
       "      <td>Drone cuadricóptero quality camera integrated ...</td>\n",
       "      <td>699.9</td>\n",
       "      <td>6.733.892</td>\n",
       "      <td>0</td>\n",
       "      <td>11905404</td>\n",
       "    </tr>\n",
       "    <tr>\n",
       "      <th>18308</th>\n",
       "      <td>NKI0010</td>\n",
       "      <td>Nokia Wireless sphygmomanometer Plata</td>\n",
       "      <td>Sphygmomanometer for iPhone iPad and iPod App.</td>\n",
       "      <td>129.99</td>\n",
       "      <td>1.149.899</td>\n",
       "      <td>1</td>\n",
       "      <td>11905404</td>\n",
       "    </tr>\n",
       "    <tr>\n",
       "      <th>18514</th>\n",
       "      <td>PLA0035</td>\n",
       "      <td>Bluetooth Headset Plantronics Explorer 80</td>\n",
       "      <td>egonómico wireless headset design for iPhone i...</td>\n",
       "      <td>39.99</td>\n",
       "      <td>349.896</td>\n",
       "      <td>1</td>\n",
       "      <td>5384</td>\n",
       "    </tr>\n",
       "  </tbody>\n",
       "</table>\n",
       "<p>8746 rows × 7 columns</p>\n",
       "</div>"
      ],
      "text/plain": [
       "           sku                                               name  \\\n",
       "101    APP0390  Apple MacBook Pro 133 \"Core i5 25GHz | 4GB RAM...   \n",
       "102    APP0390  Apple MacBook Pro 133 \"Core i5 25GHz | 4GB RAM...   \n",
       "103    APP0390  Apple MacBook Pro 133 \"Core i5 25GHz | 4GB RAM...   \n",
       "104    APP0390  Apple MacBook Pro 133 \"Core i5 25GHz | 4GB RAM...   \n",
       "105    APP0390  Apple MacBook Pro 133 \"Core i5 25GHz | 4GB RAM...   \n",
       "...        ...                                                ...   \n",
       "16831  APP2302  Apple MacBook Pro 13 \"Core i5 Touch Bar 33GHz ...   \n",
       "16833  APP2303  Apple MacBook Pro 13 \"Core i5 Touch Bar 33GHz ...   \n",
       "18190  PAR0077                         Parrot Bebop Drone 2 Power   \n",
       "18308  NKI0010              Nokia Wireless sphygmomanometer Plata   \n",
       "18514  PLA0035          Bluetooth Headset Plantronics Explorer 80   \n",
       "\n",
       "                                                    desc        price  \\\n",
       "101          MacBook Pro laptop 133 inches (MD101Y / A).         1199   \n",
       "102          MacBook Pro laptop 133 inches (MD101Y / A).         1199   \n",
       "103          MacBook Pro laptop 133 inches (MD101Y / A).         1199   \n",
       "104          MacBook Pro laptop 133 inches (MD101Y / A).         1199   \n",
       "105          MacBook Pro laptop 133 inches (MD101Y / A).         1199   \n",
       "...                                                  ...          ...   \n",
       "16831  New MacBook Pro 13-inch Core i5 Touch Bar 33 G...   26.155.941   \n",
       "16833  New MacBook Pro 13 inch Touch Bar 33 GHz Core ...  237.559.421   \n",
       "18190  Drone cuadricóptero quality camera integrated ...        699.9   \n",
       "18308     Sphygmomanometer for iPhone iPad and iPod App.       129.99   \n",
       "18514  egonómico wireless headset design for iPhone i...        39.99   \n",
       "\n",
       "      promo_price  in_stock      type  \n",
       "101    11.455.917         0      1282  \n",
       "102    11.455.917         0      1282  \n",
       "103    11.455.917         0      1282  \n",
       "104    11.455.917         0      1282  \n",
       "105    11.455.917         0      1282  \n",
       "...           ...       ...       ...  \n",
       "16831  26.155.941         0  1,02E+12  \n",
       "16833  23.755.942         0  1,02E+12  \n",
       "18190   6.733.892         0  11905404  \n",
       "18308   1.149.899         1  11905404  \n",
       "18514     349.896         1      5384  \n",
       "\n",
       "[8746 rows x 7 columns]"
      ]
     },
     "execution_count": 91,
     "metadata": {},
     "output_type": "execute_result"
    }
   ],
   "source": [
    "#shows the duplicated rows\n",
    "products_duplicated_mask=copy_products_df.duplicated()\n",
    "copy_products_df.loc[products_duplicated_mask]"
   ]
  },
  {
   "cell_type": "code",
   "execution_count": 92,
   "id": "25438fcc-11f9-47e7-9a45-f41e9c792213",
   "metadata": {},
   "outputs": [],
   "source": [
    "#drop duplicated rows\n",
    "copy_products_df.drop_duplicates(inplace=True)"
   ]
  },
  {
   "cell_type": "code",
   "execution_count": 93,
   "id": "204bfd09-d7de-4bea-ab24-665b878898a9",
   "metadata": {},
   "outputs": [
    {
     "data": {
      "text/plain": [
       "np.int64(0)"
      ]
     },
     "execution_count": 93,
     "metadata": {},
     "output_type": "execute_result"
    }
   ],
   "source": [
    "#check again if duplicated have been drop\n",
    "copy_products_df.duplicated().sum()"
   ]
  },
  {
   "cell_type": "code",
   "execution_count": 94,
   "id": "51e34f6c-c8af-4fe9-b619-c40ff675c50d",
   "metadata": {},
   "outputs": [],
   "source": [
    "# we reset index so that starts with 0 with step=1\n",
    "copy_products_df=copy_products_df.reset_index(drop=True)"
   ]
  },
  {
   "cell_type": "code",
   "execution_count": 95,
   "id": "9cf6c906-42f0-4b34-852a-bd52d3174aad",
   "metadata": {},
   "outputs": [
    {
     "data": {
      "text/plain": [
       "np.int64(1)"
      ]
     },
     "execution_count": 95,
     "metadata": {},
     "output_type": "execute_result"
    }
   ],
   "source": [
    "#sku must be unique,we check if there is any duplicated sku\n",
    "copy_products_df['sku'].duplicated().sum()"
   ]
  },
  {
   "cell_type": "code",
   "execution_count": 96,
   "id": "bbaff38f-58a4-4984-864d-90edaa632194",
   "metadata": {},
   "outputs": [
    {
     "data": {
      "text/html": [
       "<div>\n",
       "<style scoped>\n",
       "    .dataframe tbody tr th:only-of-type {\n",
       "        vertical-align: middle;\n",
       "    }\n",
       "\n",
       "    .dataframe tbody tr th {\n",
       "        vertical-align: top;\n",
       "    }\n",
       "\n",
       "    .dataframe thead th {\n",
       "        text-align: right;\n",
       "    }\n",
       "</style>\n",
       "<table border=\"1\" class=\"dataframe\">\n",
       "  <thead>\n",
       "    <tr style=\"text-align: right;\">\n",
       "      <th></th>\n",
       "      <th>sku</th>\n",
       "      <th>name</th>\n",
       "      <th>desc</th>\n",
       "      <th>price</th>\n",
       "      <th>promo_price</th>\n",
       "      <th>in_stock</th>\n",
       "      <th>type</th>\n",
       "    </tr>\n",
       "  </thead>\n",
       "  <tbody>\n",
       "    <tr>\n",
       "      <th>2805</th>\n",
       "      <td>APP1197</td>\n",
       "      <td>Apple iMac 21.5 \"Core i5 31 GHz Retina display...</td>\n",
       "      <td>Desktop Apple iMac 21.5 inch i5 31 GHz Retina ...</td>\n",
       "      <td>NaN</td>\n",
       "      <td>1305.59</td>\n",
       "      <td>0</td>\n",
       "      <td>1282</td>\n",
       "    </tr>\n",
       "  </tbody>\n",
       "</table>\n",
       "</div>"
      ],
      "text/plain": [
       "          sku                                               name  \\\n",
       "2805  APP1197  Apple iMac 21.5 \"Core i5 31 GHz Retina display...   \n",
       "\n",
       "                                                   desc price promo_price  \\\n",
       "2805  Desktop Apple iMac 21.5 inch i5 31 GHz Retina ...   NaN     1305.59   \n",
       "\n",
       "      in_stock  type  \n",
       "2805         0  1282  "
      ]
     },
     "execution_count": 96,
     "metadata": {},
     "output_type": "execute_result"
    }
   ],
   "source": [
    "#which sku is duplicated\n",
    "sku_duplicated_mask=copy_products_df['sku'].duplicated()\n",
    "copy_products_df.loc[sku_duplicated_mask]"
   ]
  },
  {
   "cell_type": "code",
   "execution_count": 97,
   "id": "77fcc742-068f-4f74-bf0a-99871f8a7f1a",
   "metadata": {},
   "outputs": [
    {
     "data": {
      "text/html": [
       "<div>\n",
       "<style scoped>\n",
       "    .dataframe tbody tr th:only-of-type {\n",
       "        vertical-align: middle;\n",
       "    }\n",
       "\n",
       "    .dataframe tbody tr th {\n",
       "        vertical-align: top;\n",
       "    }\n",
       "\n",
       "    .dataframe thead th {\n",
       "        text-align: right;\n",
       "    }\n",
       "</style>\n",
       "<table border=\"1\" class=\"dataframe\">\n",
       "  <thead>\n",
       "    <tr style=\"text-align: right;\">\n",
       "      <th></th>\n",
       "      <th>sku</th>\n",
       "      <th>name</th>\n",
       "      <th>desc</th>\n",
       "      <th>price</th>\n",
       "      <th>promo_price</th>\n",
       "      <th>in_stock</th>\n",
       "      <th>type</th>\n",
       "    </tr>\n",
       "  </thead>\n",
       "  <tbody>\n",
       "    <tr>\n",
       "      <th>2804</th>\n",
       "      <td>APP1197</td>\n",
       "      <td>Apple iMac 21.5 \"Core i5 31 GHz Retina display...</td>\n",
       "      <td>Desktop Apple iMac 21.5 inch i5 31 GHz Retina ...</td>\n",
       "      <td>1729</td>\n",
       "      <td>1305.59</td>\n",
       "      <td>0</td>\n",
       "      <td>1282</td>\n",
       "    </tr>\n",
       "    <tr>\n",
       "      <th>2805</th>\n",
       "      <td>APP1197</td>\n",
       "      <td>Apple iMac 21.5 \"Core i5 31 GHz Retina display...</td>\n",
       "      <td>Desktop Apple iMac 21.5 inch i5 31 GHz Retina ...</td>\n",
       "      <td>NaN</td>\n",
       "      <td>1305.59</td>\n",
       "      <td>0</td>\n",
       "      <td>1282</td>\n",
       "    </tr>\n",
       "  </tbody>\n",
       "</table>\n",
       "</div>"
      ],
      "text/plain": [
       "          sku                                               name  \\\n",
       "2804  APP1197  Apple iMac 21.5 \"Core i5 31 GHz Retina display...   \n",
       "2805  APP1197  Apple iMac 21.5 \"Core i5 31 GHz Retina display...   \n",
       "\n",
       "                                                   desc price promo_price  \\\n",
       "2804  Desktop Apple iMac 21.5 inch i5 31 GHz Retina ...  1729     1305.59   \n",
       "2805  Desktop Apple iMac 21.5 inch i5 31 GHz Retina ...   NaN     1305.59   \n",
       "\n",
       "      in_stock  type  \n",
       "2804         0  1282  \n",
       "2805         0  1282  "
      ]
     },
     "execution_count": 97,
     "metadata": {},
     "output_type": "execute_result"
    }
   ],
   "source": [
    "#see the duplicated sku rows\n",
    "copy_products_df.loc[copy_products_df['sku']=='APP1197']"
   ]
  },
  {
   "cell_type": "code",
   "execution_count": 98,
   "id": "07475f61-e39b-44ea-86dd-3712c2d75df5",
   "metadata": {},
   "outputs": [],
   "source": [
    "#drop one of the duplicated sku rows\n",
    "copy_products_df.drop(2805,inplace=True)"
   ]
  },
  {
   "cell_type": "code",
   "execution_count": 99,
   "id": "b5fafafc-89ec-4068-a3eb-4a7113c10893",
   "metadata": {},
   "outputs": [
    {
     "data": {
      "text/plain": [
       "np.int64(0)"
      ]
     },
     "execution_count": 99,
     "metadata": {},
     "output_type": "execute_result"
    }
   ],
   "source": [
    "copy_products_df['sku'].duplicated().sum()"
   ]
  },
  {
   "cell_type": "code",
   "execution_count": 100,
   "id": "200190e5-eb60-4bdb-8810-15cc8b4b9126",
   "metadata": {},
   "outputs": [
    {
     "data": {
      "text/plain": [
       "np.int64(0)"
      ]
     },
     "execution_count": 100,
     "metadata": {},
     "output_type": "execute_result"
    }
   ],
   "source": [
    "#check if duplicated sku is droped\n",
    "copy_products_df['sku'].duplicated().sum()"
   ]
  },
  {
   "cell_type": "code",
   "execution_count": 101,
   "id": "7df9e560-7ae7-4e8d-901e-3f938f6591d7",
   "metadata": {},
   "outputs": [
    {
     "data": {
      "text/plain": [
       "sku             0\n",
       "name            0\n",
       "desc            7\n",
       "price          45\n",
       "promo_price     0\n",
       "in_stock        0\n",
       "type           50\n",
       "dtype: int64"
      ]
     },
     "execution_count": 101,
     "metadata": {},
     "output_type": "execute_result"
    }
   ],
   "source": [
    "#check where we have null values in products\n",
    "copy_products_df.isnull().sum()"
   ]
  },
  {
   "cell_type": "code",
   "execution_count": 102,
   "id": "35b2e0a5-de5f-42d0-a7c9-055ab2097ea7",
   "metadata": {},
   "outputs": [],
   "source": [
    "#we can replace null descriptions with unknown\n",
    "copy_products_df.loc[copy_products_df['desc'].isnull(),'desc']='unknown'"
   ]
  },
  {
   "cell_type": "code",
   "execution_count": 103,
   "id": "684f0efd-b192-47e9-af3f-cfe32dcc008e",
   "metadata": {},
   "outputs": [],
   "source": [
    "#because price is an important column, we need to drop those rows with null prices\n",
    "copy_products_df.dropna(subset='price',inplace=True)"
   ]
  },
  {
   "cell_type": "code",
   "execution_count": 104,
   "id": "7ea3a892-e7db-4b98-a17f-0ecc92ebb451",
   "metadata": {},
   "outputs": [],
   "source": [
    "# we can replace null types with 0\n",
    "copy_products_df.loc[copy_products_df['type'].isnull(),'type']=0"
   ]
  },
  {
   "cell_type": "code",
   "execution_count": 105,
   "id": "e02aeb5e-eea6-45ab-a1f2-3f9cf922fef2",
   "metadata": {},
   "outputs": [
    {
     "data": {
      "text/plain": [
       "sku            0\n",
       "name           0\n",
       "desc           0\n",
       "price          0\n",
       "promo_price    0\n",
       "in_stock       0\n",
       "type           0\n",
       "dtype: int64"
      ]
     },
     "execution_count": 105,
     "metadata": {},
     "output_type": "execute_result"
    }
   ],
   "source": [
    "#we dont have any null values in products data frame anymore\n",
    "copy_products_df.isnull().sum()"
   ]
  },
  {
   "cell_type": "code",
   "execution_count": 106,
   "id": "b41e333e-f9e0-4523-9575-4a8bc702e229",
   "metadata": {},
   "outputs": [],
   "source": [
    "# price and promo_price needs to be converted into float type "
   ]
  },
  {
   "cell_type": "code",
   "execution_count": 107,
   "id": "d8a74154-cf2b-4236-8e3f-e2a668165677",
   "metadata": {},
   "outputs": [],
   "source": [
    "#if you try to convert them you get an error\n",
    "# pd.to_numeric(copy_products_df['price'])\n",
    "# pd.to_numeric(copy_products_df['promo_price'])\n",
    "# It seems that we have some unsual prices with two periods in them"
   ]
  },
  {
   "cell_type": "code",
   "execution_count": 108,
   "id": "dd4ced14-83bf-46b1-823c-270e1a0408ee",
   "metadata": {},
   "outputs": [
    {
     "data": {
      "text/plain": [
       "price\n",
       "False    0.964211\n",
       "True     0.035789\n",
       "Name: proportion, dtype: float64"
      ]
     },
     "execution_count": 108,
     "metadata": {},
     "output_type": "execute_result"
    }
   ],
   "source": [
    "#lets see how many unusual prices do we have\n",
    "(copy_products_df['price'].str.count(r'\\.')>1).value_counts(normalize=True)"
   ]
  },
  {
   "cell_type": "code",
   "execution_count": 109,
   "id": "aa2e9f2c-e0f4-47ce-9629-f85c088bfea9",
   "metadata": {},
   "outputs": [
    {
     "data": {
      "text/html": [
       "<div>\n",
       "<style scoped>\n",
       "    .dataframe tbody tr th:only-of-type {\n",
       "        vertical-align: middle;\n",
       "    }\n",
       "\n",
       "    .dataframe tbody tr th {\n",
       "        vertical-align: top;\n",
       "    }\n",
       "\n",
       "    .dataframe thead th {\n",
       "        text-align: right;\n",
       "    }\n",
       "</style>\n",
       "<table border=\"1\" class=\"dataframe\">\n",
       "  <thead>\n",
       "    <tr style=\"text-align: right;\">\n",
       "      <th></th>\n",
       "      <th>promo_price</th>\n",
       "      <th>proportion</th>\n",
       "    </tr>\n",
       "  </thead>\n",
       "  <tbody>\n",
       "    <tr>\n",
       "      <th>0</th>\n",
       "      <td>False</td>\n",
       "      <td>0.563604</td>\n",
       "    </tr>\n",
       "    <tr>\n",
       "      <th>1</th>\n",
       "      <td>True</td>\n",
       "      <td>0.436396</td>\n",
       "    </tr>\n",
       "  </tbody>\n",
       "</table>\n",
       "</div>"
      ],
      "text/plain": [
       "   promo_price  proportion\n",
       "0        False    0.563604\n",
       "1         True    0.436396"
      ]
     },
     "execution_count": 109,
     "metadata": {},
     "output_type": "execute_result"
    }
   ],
   "source": [
    "#lets see how many unusual promotion prices do we have\n",
    "(copy_products_df['promo_price'].str.count(r'\\.')>1).value_counts(normalize=True).reset_index()"
   ]
  },
  {
   "cell_type": "code",
   "execution_count": 110,
   "id": "20835e3b-16d0-4833-824c-ea8f78580992",
   "metadata": {},
   "outputs": [
    {
     "data": {
      "text/plain": [
       "False    0.973799\n",
       "True     0.026201\n",
       "Name: proportion, dtype: float64"
      ]
     },
     "execution_count": 110,
     "metadata": {},
     "output_type": "execute_result"
    }
   ],
   "source": [
    "#lets see how many unusula price and promotion price do we have\n",
    "((copy_products_df['promo_price'].str.count(r'\\.')>1) & (copy_products_df['price'].str.count(r'\\.')>1)).value_counts(normalize=True)"
   ]
  },
  {
   "cell_type": "code",
   "execution_count": 111,
   "id": "78cb0e10-68cf-40e4-9a68-fae43295d693",
   "metadata": {},
   "outputs": [],
   "source": [
    "# As around 43 percent of promotion prices are corrupted, we just have to drop the column\n",
    "# This is an important column but we have a dynamic unit_price in orderlines which can represent the promotion price very good\n",
    "copy_products_df.drop('promo_price',axis=1,inplace=True)"
   ]
  },
  {
   "cell_type": "code",
   "execution_count": 112,
   "id": "56595246-b3b2-4cd5-8216-6379e98aff5a",
   "metadata": {},
   "outputs": [
    {
     "data": {
      "text/html": [
       "<div>\n",
       "<style scoped>\n",
       "    .dataframe tbody tr th:only-of-type {\n",
       "        vertical-align: middle;\n",
       "    }\n",
       "\n",
       "    .dataframe tbody tr th {\n",
       "        vertical-align: top;\n",
       "    }\n",
       "\n",
       "    .dataframe thead th {\n",
       "        text-align: right;\n",
       "    }\n",
       "</style>\n",
       "<table border=\"1\" class=\"dataframe\">\n",
       "  <thead>\n",
       "    <tr style=\"text-align: right;\">\n",
       "      <th></th>\n",
       "      <th>price</th>\n",
       "      <th>unit_price</th>\n",
       "    </tr>\n",
       "  </thead>\n",
       "  <tbody>\n",
       "    <tr>\n",
       "      <th>1010</th>\n",
       "      <td>2.499.013</td>\n",
       "      <td>19.99</td>\n",
       "    </tr>\n",
       "    <tr>\n",
       "      <th>2604</th>\n",
       "      <td>1.990.002</td>\n",
       "      <td>199.00</td>\n",
       "    </tr>\n",
       "    <tr>\n",
       "      <th>282</th>\n",
       "      <td>1.639.792</td>\n",
       "      <td>138.99</td>\n",
       "    </tr>\n",
       "    <tr>\n",
       "      <th>3292</th>\n",
       "      <td>115.900.092</td>\n",
       "      <td>1.139.00</td>\n",
       "    </tr>\n",
       "    <tr>\n",
       "      <th>252</th>\n",
       "      <td>1.639.792</td>\n",
       "      <td>130.99</td>\n",
       "    </tr>\n",
       "    <tr>\n",
       "      <th>2411</th>\n",
       "      <td>1.990.002</td>\n",
       "      <td>185.07</td>\n",
       "    </tr>\n",
       "    <tr>\n",
       "      <th>1506</th>\n",
       "      <td>5.528.115</td>\n",
       "      <td>549.00</td>\n",
       "    </tr>\n",
       "    <tr>\n",
       "      <th>2040</th>\n",
       "      <td>8.276.703</td>\n",
       "      <td>829.00</td>\n",
       "    </tr>\n",
       "    <tr>\n",
       "      <th>2569</th>\n",
       "      <td>1.990.002</td>\n",
       "      <td>191.00</td>\n",
       "    </tr>\n",
       "    <tr>\n",
       "      <th>1788</th>\n",
       "      <td>6.999.003</td>\n",
       "      <td>69.99</td>\n",
       "    </tr>\n",
       "    <tr>\n",
       "      <th>2581</th>\n",
       "      <td>1.990.002</td>\n",
       "      <td>191.00</td>\n",
       "    </tr>\n",
       "    <tr>\n",
       "      <th>3565</th>\n",
       "      <td>13.290.011</td>\n",
       "      <td>1.329.00</td>\n",
       "    </tr>\n",
       "    <tr>\n",
       "      <th>2964</th>\n",
       "      <td>115.900.092</td>\n",
       "      <td>1.159.00</td>\n",
       "    </tr>\n",
       "    <tr>\n",
       "      <th>3895</th>\n",
       "      <td>13.290.011</td>\n",
       "      <td>1.329.00</td>\n",
       "    </tr>\n",
       "    <tr>\n",
       "      <th>528</th>\n",
       "      <td>1.639.792</td>\n",
       "      <td>160.19</td>\n",
       "    </tr>\n",
       "    <tr>\n",
       "      <th>3934</th>\n",
       "      <td>13.290.011</td>\n",
       "      <td>1.329.00</td>\n",
       "    </tr>\n",
       "    <tr>\n",
       "      <th>37</th>\n",
       "      <td>1.639.792</td>\n",
       "      <td>118.74</td>\n",
       "    </tr>\n",
       "    <tr>\n",
       "      <th>1281</th>\n",
       "      <td>49.033.072</td>\n",
       "      <td>489.00</td>\n",
       "    </tr>\n",
       "    <tr>\n",
       "      <th>2167</th>\n",
       "      <td>34.847.892</td>\n",
       "      <td>2.968.91</td>\n",
       "    </tr>\n",
       "    <tr>\n",
       "      <th>1923</th>\n",
       "      <td>8.276.703</td>\n",
       "      <td>879.00</td>\n",
       "    </tr>\n",
       "    <tr>\n",
       "      <th>2731</th>\n",
       "      <td>115.900.092</td>\n",
       "      <td>1.159.00</td>\n",
       "    </tr>\n",
       "    <tr>\n",
       "      <th>828</th>\n",
       "      <td>4.519.592</td>\n",
       "      <td>338.58</td>\n",
       "    </tr>\n",
       "    <tr>\n",
       "      <th>1219</th>\n",
       "      <td>1.728.001</td>\n",
       "      <td>15.28</td>\n",
       "    </tr>\n",
       "    <tr>\n",
       "      <th>1756</th>\n",
       "      <td>6.352.863</td>\n",
       "      <td>56.93</td>\n",
       "    </tr>\n",
       "    <tr>\n",
       "      <th>3983</th>\n",
       "      <td>13.290.011</td>\n",
       "      <td>1.329.00</td>\n",
       "    </tr>\n",
       "    <tr>\n",
       "      <th>4050</th>\n",
       "      <td>13.290.011</td>\n",
       "      <td>1.329.00</td>\n",
       "    </tr>\n",
       "    <tr>\n",
       "      <th>3460</th>\n",
       "      <td>115.900.092</td>\n",
       "      <td>1.159.00</td>\n",
       "    </tr>\n",
       "    <tr>\n",
       "      <th>3706</th>\n",
       "      <td>13.290.011</td>\n",
       "      <td>1.329.00</td>\n",
       "    </tr>\n",
       "    <tr>\n",
       "      <th>1361</th>\n",
       "      <td>6.129.696</td>\n",
       "      <td>552.99</td>\n",
       "    </tr>\n",
       "    <tr>\n",
       "      <th>853</th>\n",
       "      <td>5.219.592</td>\n",
       "      <td>410.58</td>\n",
       "    </tr>\n",
       "    <tr>\n",
       "      <th>650</th>\n",
       "      <td>69.989.909</td>\n",
       "      <td>68.99</td>\n",
       "    </tr>\n",
       "    <tr>\n",
       "      <th>3930</th>\n",
       "      <td>13.290.011</td>\n",
       "      <td>1.329.00</td>\n",
       "    </tr>\n",
       "    <tr>\n",
       "      <th>3019</th>\n",
       "      <td>115.900.092</td>\n",
       "      <td>1.159.00</td>\n",
       "    </tr>\n",
       "    <tr>\n",
       "      <th>4051</th>\n",
       "      <td>13.290.011</td>\n",
       "      <td>1.329.00</td>\n",
       "    </tr>\n",
       "    <tr>\n",
       "      <th>2315</th>\n",
       "      <td>14.490.004</td>\n",
       "      <td>1.274.86</td>\n",
       "    </tr>\n",
       "    <tr>\n",
       "      <th>1835</th>\n",
       "      <td>6.999.003</td>\n",
       "      <td>NaN</td>\n",
       "    </tr>\n",
       "    <tr>\n",
       "      <th>3053</th>\n",
       "      <td>115.900.092</td>\n",
       "      <td>1.159.00</td>\n",
       "    </tr>\n",
       "    <tr>\n",
       "      <th>3791</th>\n",
       "      <td>13.290.011</td>\n",
       "      <td>1.329.00</td>\n",
       "    </tr>\n",
       "    <tr>\n",
       "      <th>2715</th>\n",
       "      <td>115.900.092</td>\n",
       "      <td>1.159.00</td>\n",
       "    </tr>\n",
       "    <tr>\n",
       "      <th>13</th>\n",
       "      <td>1.639.792</td>\n",
       "      <td>124.99</td>\n",
       "    </tr>\n",
       "    <tr>\n",
       "      <th>1664</th>\n",
       "      <td>5.653.092</td>\n",
       "      <td>464.99</td>\n",
       "    </tr>\n",
       "    <tr>\n",
       "      <th>3488</th>\n",
       "      <td>115.900.092</td>\n",
       "      <td>1.159.00</td>\n",
       "    </tr>\n",
       "    <tr>\n",
       "      <th>1873</th>\n",
       "      <td>6.999.003</td>\n",
       "      <td>NaN</td>\n",
       "    </tr>\n",
       "    <tr>\n",
       "      <th>2180</th>\n",
       "      <td>11.068.685</td>\n",
       "      <td>1.084.99</td>\n",
       "    </tr>\n",
       "    <tr>\n",
       "      <th>531</th>\n",
       "      <td>1.639.792</td>\n",
       "      <td>177.99</td>\n",
       "    </tr>\n",
       "    <tr>\n",
       "      <th>3788</th>\n",
       "      <td>13.290.011</td>\n",
       "      <td>1.329.00</td>\n",
       "    </tr>\n",
       "    <tr>\n",
       "      <th>1411</th>\n",
       "      <td>6.709.896</td>\n",
       "      <td>614.99</td>\n",
       "    </tr>\n",
       "    <tr>\n",
       "      <th>981</th>\n",
       "      <td>2.499.013</td>\n",
       "      <td>22.49</td>\n",
       "    </tr>\n",
       "    <tr>\n",
       "      <th>2802</th>\n",
       "      <td>115.900.092</td>\n",
       "      <td>1.159.00</td>\n",
       "    </tr>\n",
       "    <tr>\n",
       "      <th>2780</th>\n",
       "      <td>115.900.092</td>\n",
       "      <td>1.159.00</td>\n",
       "    </tr>\n",
       "  </tbody>\n",
       "</table>\n",
       "</div>"
      ],
      "text/plain": [
       "            price unit_price\n",
       "1010    2.499.013      19.99\n",
       "2604    1.990.002     199.00\n",
       "282     1.639.792     138.99\n",
       "3292  115.900.092   1.139.00\n",
       "252     1.639.792     130.99\n",
       "2411    1.990.002     185.07\n",
       "1506    5.528.115     549.00\n",
       "2040    8.276.703     829.00\n",
       "2569    1.990.002     191.00\n",
       "1788    6.999.003      69.99\n",
       "2581    1.990.002     191.00\n",
       "3565   13.290.011   1.329.00\n",
       "2964  115.900.092   1.159.00\n",
       "3895   13.290.011   1.329.00\n",
       "528     1.639.792     160.19\n",
       "3934   13.290.011   1.329.00\n",
       "37      1.639.792     118.74\n",
       "1281   49.033.072     489.00\n",
       "2167   34.847.892   2.968.91\n",
       "1923    8.276.703     879.00\n",
       "2731  115.900.092   1.159.00\n",
       "828     4.519.592     338.58\n",
       "1219    1.728.001      15.28\n",
       "1756    6.352.863      56.93\n",
       "3983   13.290.011   1.329.00\n",
       "4050   13.290.011   1.329.00\n",
       "3460  115.900.092   1.159.00\n",
       "3706   13.290.011   1.329.00\n",
       "1361    6.129.696     552.99\n",
       "853     5.219.592     410.58\n",
       "650    69.989.909      68.99\n",
       "3930   13.290.011   1.329.00\n",
       "3019  115.900.092   1.159.00\n",
       "4051   13.290.011   1.329.00\n",
       "2315   14.490.004   1.274.86\n",
       "1835    6.999.003        NaN\n",
       "3053  115.900.092   1.159.00\n",
       "3791   13.290.011   1.329.00\n",
       "2715  115.900.092   1.159.00\n",
       "13      1.639.792     124.99\n",
       "1664    5.653.092     464.99\n",
       "3488  115.900.092   1.159.00\n",
       "1873    6.999.003        NaN\n",
       "2180   11.068.685   1.084.99\n",
       "531     1.639.792     177.99\n",
       "3788   13.290.011   1.329.00\n",
       "1411    6.709.896     614.99\n",
       "981     2.499.013      22.49\n",
       "2802  115.900.092   1.159.00\n",
       "2780  115.900.092   1.159.00"
      ]
     },
     "execution_count": 112,
     "metadata": {},
     "output_type": "execute_result"
    }
   ],
   "source": [
    "#lets take a look of those prices that are corrupted to maybe find some correlation to fix them\n",
    "#we make a numberic_price that its value is either price for not corrputed values and null for corrupted ones\n",
    "copy_products_df['numeric_price']=pd.to_numeric(copy_products_df['price'],errors='coerce')\n",
    "corrupted_price_copy_products_df=copy_products_df.loc[copy_products_df['numeric_price'].isnull(),]\n",
    "# to look for a correlation we need to take a look at promotion price for these skus, so we merge this df with orderlines\n",
    "corrupted_price_products_orderlines_merged=corrupted_price_copy_products_df.merge(copy_orderlines_df,on='sku',how='left')\n",
    "corrupted_price_products_orderlines_merged.loc[:,['price','unit_price']].sample(50)\n",
    "# It seems that we do not have any correlatin and the only way is to drop the small porion of corrupted prices"
   ]
  },
  {
   "cell_type": "code",
   "execution_count": 113,
   "id": "3efe3406-94e2-460d-ae8f-6dc402c82f12",
   "metadata": {},
   "outputs": [],
   "source": [
    "# we drop the rows with unusual prices\n",
    "copy_products_df=copy_products_df[copy_products_df['price'].str.count(r'\\.')==1]"
   ]
  },
  {
   "cell_type": "code",
   "execution_count": 114,
   "id": "439b7d99-d143-4f4e-8a3a-7bb8e9e979f4",
   "metadata": {},
   "outputs": [],
   "source": [
    "# now we can convert prices to numeric\n",
    "copy_products_df.loc[:,'price']=pd.to_numeric(copy_products_df['price'])"
   ]
  },
  {
   "cell_type": "code",
   "execution_count": 115,
   "id": "b0b68be6-ff84-45be-a42d-3923680cf294",
   "metadata": {},
   "outputs": [],
   "source": [
    "#and also we dont need numeric price anymore\n",
    "copy_products_df.drop('numeric_price',axis=1,inplace=True)"
   ]
  },
  {
   "cell_type": "code",
   "execution_count": 116,
   "id": "d35aa821-5fab-4081-95f2-e2641d98794b",
   "metadata": {},
   "outputs": [
    {
     "name": "stdout",
     "output_type": "stream",
     "text": [
      "<class 'pandas.core.frame.DataFrame'>\n",
      "Index: 6942 entries, 0 to 10579\n",
      "Data columns (total 6 columns):\n",
      " #   Column    Non-Null Count  Dtype \n",
      "---  ------    --------------  ----- \n",
      " 0   sku       6942 non-null   object\n",
      " 1   name      6942 non-null   object\n",
      " 2   desc      6942 non-null   object\n",
      " 3   price     6942 non-null   object\n",
      " 4   in_stock  6942 non-null   int64 \n",
      " 5   type      6942 non-null   object\n",
      "dtypes: int64(1), object(5)\n",
      "memory usage: 379.6+ KB\n"
     ]
    }
   ],
   "source": [
    "#check if now the tyes are correct\n",
    "copy_products_df.info()"
   ]
  },
  {
   "cell_type": "code",
   "execution_count": 117,
   "id": "d6d01c2c-48a9-459d-9b51-a11ec7a65e0f",
   "metadata": {},
   "outputs": [],
   "source": [
    "# we need to reset indexes after the cleaning is finished \n",
    "copy_products_df.reset_index(drop=True,inplace=True)"
   ]
  },
  {
   "cell_type": "code",
   "execution_count": 118,
   "id": "7f480f0a-3479-4577-a84f-531d92a6e1aa",
   "metadata": {},
   "outputs": [],
   "source": [
    "copy_products_df.to_csv('../data/clean/products_cl.csv')"
   ]
  },
  {
   "cell_type": "markdown",
   "id": "6b8b19b2-396d-4372-83b5-2fa8e3e44ec1",
   "metadata": {},
   "source": [
    "### Data cleaning \n",
    "#### Orders"
   ]
  },
  {
   "cell_type": "code",
   "execution_count": 119,
   "id": "cc8a2718-0e23-4113-8c65-90cd82dac339",
   "metadata": {},
   "outputs": [
    {
     "data": {
      "text/plain": [
       "np.int64(0)"
      ]
     },
     "execution_count": 119,
     "metadata": {},
     "output_type": "execute_result"
    }
   ],
   "source": [
    "#search for duplicated rows\n",
    "copy_orders_df.duplicated().sum()"
   ]
  },
  {
   "cell_type": "code",
   "execution_count": 120,
   "id": "2c9961d1-56dd-468c-a3b1-3a9eeae02e45",
   "metadata": {},
   "outputs": [
    {
     "data": {
      "text/plain": [
       "order_id        0\n",
       "created_date    0\n",
       "total_paid      5\n",
       "state           0\n",
       "dtype: int64"
      ]
     },
     "execution_count": 120,
     "metadata": {},
     "output_type": "execute_result"
    }
   ],
   "source": [
    "#check where we have null values\n",
    "copy_orders_df.isnull().sum()"
   ]
  },
  {
   "cell_type": "code",
   "execution_count": 121,
   "id": "65f2bc7b-daa6-4f9a-bc9f-ab6c7a078112",
   "metadata": {},
   "outputs": [
    {
     "data": {
      "text/html": [
       "<div>\n",
       "<style scoped>\n",
       "    .dataframe tbody tr th:only-of-type {\n",
       "        vertical-align: middle;\n",
       "    }\n",
       "\n",
       "    .dataframe tbody tr th {\n",
       "        vertical-align: top;\n",
       "    }\n",
       "\n",
       "    .dataframe thead th {\n",
       "        text-align: right;\n",
       "    }\n",
       "</style>\n",
       "<table border=\"1\" class=\"dataframe\">\n",
       "  <thead>\n",
       "    <tr style=\"text-align: right;\">\n",
       "      <th></th>\n",
       "      <th>order_id</th>\n",
       "      <th>created_date</th>\n",
       "      <th>total_paid</th>\n",
       "      <th>state</th>\n",
       "    </tr>\n",
       "  </thead>\n",
       "  <tbody>\n",
       "    <tr>\n",
       "      <th>127701</th>\n",
       "      <td>427314</td>\n",
       "      <td>2017-11-20 18:54:39</td>\n",
       "      <td>NaN</td>\n",
       "      <td>Pending</td>\n",
       "    </tr>\n",
       "    <tr>\n",
       "      <th>132013</th>\n",
       "      <td>431655</td>\n",
       "      <td>2017-11-22 12:15:24</td>\n",
       "      <td>NaN</td>\n",
       "      <td>Pending</td>\n",
       "    </tr>\n",
       "    <tr>\n",
       "      <th>147316</th>\n",
       "      <td>447411</td>\n",
       "      <td>2017-11-27 10:32:37</td>\n",
       "      <td>NaN</td>\n",
       "      <td>Pending</td>\n",
       "    </tr>\n",
       "    <tr>\n",
       "      <th>148833</th>\n",
       "      <td>448966</td>\n",
       "      <td>2017-11-27 18:54:15</td>\n",
       "      <td>NaN</td>\n",
       "      <td>Pending</td>\n",
       "    </tr>\n",
       "    <tr>\n",
       "      <th>149434</th>\n",
       "      <td>449596</td>\n",
       "      <td>2017-11-27 21:52:08</td>\n",
       "      <td>NaN</td>\n",
       "      <td>Pending</td>\n",
       "    </tr>\n",
       "  </tbody>\n",
       "</table>\n",
       "</div>"
      ],
      "text/plain": [
       "        order_id         created_date  total_paid    state\n",
       "127701    427314  2017-11-20 18:54:39         NaN  Pending\n",
       "132013    431655  2017-11-22 12:15:24         NaN  Pending\n",
       "147316    447411  2017-11-27 10:32:37         NaN  Pending\n",
       "148833    448966  2017-11-27 18:54:15         NaN  Pending\n",
       "149434    449596  2017-11-27 21:52:08         NaN  Pending"
      ]
     },
     "execution_count": 121,
     "metadata": {},
     "output_type": "execute_result"
    }
   ],
   "source": [
    "# take a look at null total_paid rows\n",
    "copy_orders_df.loc[copy_orders_df['total_paid'].isnull()]"
   ]
  },
  {
   "cell_type": "code",
   "execution_count": 122,
   "id": "269d26f8-e865-4f08-8292-3a01e8599265",
   "metadata": {},
   "outputs": [],
   "source": [
    "# the state is prnding. These orders have not been placed. We can simply remove them\n",
    "copy_orders_df=copy_orders_df.loc[~(copy_orders_df['total_paid'].isnull())]"
   ]
  },
  {
   "cell_type": "code",
   "execution_count": 123,
   "id": "6ae01235-9c78-4dc7-8134-e5bd3753d98b",
   "metadata": {},
   "outputs": [
    {
     "data": {
      "text/plain": [
       "order_id        0\n",
       "created_date    0\n",
       "total_paid      0\n",
       "state           0\n",
       "dtype: int64"
      ]
     },
     "execution_count": 123,
     "metadata": {},
     "output_type": "execute_result"
    }
   ],
   "source": [
    "#check if there is no null values \n",
    "copy_orders_df.isnull().sum()"
   ]
  },
  {
   "cell_type": "code",
   "execution_count": 125,
   "id": "8ab19e81-e539-4a2a-a41e-a200c377ffc4",
   "metadata": {},
   "outputs": [
    {
     "name": "stdout",
     "output_type": "stream",
     "text": [
      "<class 'pandas.core.frame.DataFrame'>\n",
      "Index: 226904 entries, 0 to 226908\n",
      "Data columns (total 4 columns):\n",
      " #   Column        Non-Null Count   Dtype  \n",
      "---  ------        --------------   -----  \n",
      " 0   order_id      226904 non-null  int64  \n",
      " 1   created_date  226904 non-null  object \n",
      " 2   total_paid    226904 non-null  float64\n",
      " 3   state         226904 non-null  object \n",
      "dtypes: float64(1), int64(1), object(2)\n",
      "memory usage: 8.7+ MB\n"
     ]
    }
   ],
   "source": [
    "#take a look at dataframe statistical info\n",
    "copy_orders_df.info()"
   ]
  },
  {
   "cell_type": "code",
   "execution_count": null,
   "id": "dd045446-62c6-4a91-8622-8ca2530bac90",
   "metadata": {},
   "outputs": [],
   "source": []
  }
 ],
 "metadata": {
  "kernelspec": {
   "display_name": "Python 3 (ipykernel)",
   "language": "python",
   "name": "python3"
  },
  "language_info": {
   "codemirror_mode": {
    "name": "ipython",
    "version": 3
   },
   "file_extension": ".py",
   "mimetype": "text/x-python",
   "name": "python",
   "nbconvert_exporter": "python",
   "pygments_lexer": "ipython3",
   "version": "3.13.3"
  }
 },
 "nbformat": 4,
 "nbformat_minor": 5
}
