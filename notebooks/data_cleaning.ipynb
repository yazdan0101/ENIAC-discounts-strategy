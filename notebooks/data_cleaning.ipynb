{
 "cells": [
  {
   "cell_type": "code",
   "execution_count": 173,
   "id": "259d4640-328a-4860-adde-12f46d67fd0a",
   "metadata": {},
   "outputs": [],
   "source": [
    "%run 'dataframes.ipynb'"
   ]
  },
  {
   "cell_type": "code",
   "execution_count": 174,
   "id": "c1f05da7-1204-4c3e-a891-0cc08b882464",
   "metadata": {},
   "outputs": [],
   "source": [
    "# make a copy of each dataframe\n",
    "copy_products_df=products_df.copy()\n",
    "copy_orders_df=orders_df.copy()\n",
    "copy_orderlines_df=orderlines_df.copy()\n",
    "copy_brands_df=brands_df.copy()"
   ]
  },
  {
   "cell_type": "markdown",
   "id": "6d198acb-17f7-4933-b740-c0766e396240",
   "metadata": {},
   "source": [
    "### Data cleaning\n",
    "#### Products"
   ]
  },
  {
   "cell_type": "code",
   "execution_count": 175,
   "id": "18950413-0a70-45b3-9459-baf9f8876c7f",
   "metadata": {},
   "outputs": [
    {
     "data": {
      "text/plain": [
       "np.int64(8746)"
      ]
     },
     "execution_count": 175,
     "metadata": {},
     "output_type": "execute_result"
    }
   ],
   "source": [
    "#calculate the count of duplicated rows\n",
    "copy_products_df.duplicated().sum()"
   ]
  },
  {
   "cell_type": "code",
   "execution_count": 176,
   "id": "fd4784a0-9a07-41fb-b690-f4fc00aa23a2",
   "metadata": {},
   "outputs": [
    {
     "data": {
      "text/html": [
       "<div>\n",
       "<style scoped>\n",
       "    .dataframe tbody tr th:only-of-type {\n",
       "        vertical-align: middle;\n",
       "    }\n",
       "\n",
       "    .dataframe tbody tr th {\n",
       "        vertical-align: top;\n",
       "    }\n",
       "\n",
       "    .dataframe thead th {\n",
       "        text-align: right;\n",
       "    }\n",
       "</style>\n",
       "<table border=\"1\" class=\"dataframe\">\n",
       "  <thead>\n",
       "    <tr style=\"text-align: right;\">\n",
       "      <th></th>\n",
       "      <th>sku</th>\n",
       "      <th>name</th>\n",
       "      <th>desc</th>\n",
       "      <th>price</th>\n",
       "      <th>promo_price</th>\n",
       "      <th>in_stock</th>\n",
       "      <th>type</th>\n",
       "    </tr>\n",
       "  </thead>\n",
       "  <tbody>\n",
       "    <tr>\n",
       "      <th>101</th>\n",
       "      <td>APP0390</td>\n",
       "      <td>Apple MacBook Pro 133 \"Core i5 25GHz | 4GB RAM...</td>\n",
       "      <td>MacBook Pro laptop 133 inches (MD101Y / A).</td>\n",
       "      <td>1199</td>\n",
       "      <td>11.455.917</td>\n",
       "      <td>0</td>\n",
       "      <td>1282</td>\n",
       "    </tr>\n",
       "    <tr>\n",
       "      <th>102</th>\n",
       "      <td>APP0390</td>\n",
       "      <td>Apple MacBook Pro 133 \"Core i5 25GHz | 4GB RAM...</td>\n",
       "      <td>MacBook Pro laptop 133 inches (MD101Y / A).</td>\n",
       "      <td>1199</td>\n",
       "      <td>11.455.917</td>\n",
       "      <td>0</td>\n",
       "      <td>1282</td>\n",
       "    </tr>\n",
       "    <tr>\n",
       "      <th>103</th>\n",
       "      <td>APP0390</td>\n",
       "      <td>Apple MacBook Pro 133 \"Core i5 25GHz | 4GB RAM...</td>\n",
       "      <td>MacBook Pro laptop 133 inches (MD101Y / A).</td>\n",
       "      <td>1199</td>\n",
       "      <td>11.455.917</td>\n",
       "      <td>0</td>\n",
       "      <td>1282</td>\n",
       "    </tr>\n",
       "    <tr>\n",
       "      <th>104</th>\n",
       "      <td>APP0390</td>\n",
       "      <td>Apple MacBook Pro 133 \"Core i5 25GHz | 4GB RAM...</td>\n",
       "      <td>MacBook Pro laptop 133 inches (MD101Y / A).</td>\n",
       "      <td>1199</td>\n",
       "      <td>11.455.917</td>\n",
       "      <td>0</td>\n",
       "      <td>1282</td>\n",
       "    </tr>\n",
       "    <tr>\n",
       "      <th>105</th>\n",
       "      <td>APP0390</td>\n",
       "      <td>Apple MacBook Pro 133 \"Core i5 25GHz | 4GB RAM...</td>\n",
       "      <td>MacBook Pro laptop 133 inches (MD101Y / A).</td>\n",
       "      <td>1199</td>\n",
       "      <td>11.455.917</td>\n",
       "      <td>0</td>\n",
       "      <td>1282</td>\n",
       "    </tr>\n",
       "    <tr>\n",
       "      <th>...</th>\n",
       "      <td>...</td>\n",
       "      <td>...</td>\n",
       "      <td>...</td>\n",
       "      <td>...</td>\n",
       "      <td>...</td>\n",
       "      <td>...</td>\n",
       "      <td>...</td>\n",
       "    </tr>\n",
       "    <tr>\n",
       "      <th>16831</th>\n",
       "      <td>APP2302</td>\n",
       "      <td>Apple MacBook Pro 13 \"Core i5 Touch Bar 33GHz ...</td>\n",
       "      <td>New MacBook Pro 13-inch Core i5 Touch Bar 33 G...</td>\n",
       "      <td>26.155.941</td>\n",
       "      <td>26.155.941</td>\n",
       "      <td>0</td>\n",
       "      <td>1,02E+12</td>\n",
       "    </tr>\n",
       "    <tr>\n",
       "      <th>16833</th>\n",
       "      <td>APP2303</td>\n",
       "      <td>Apple MacBook Pro 13 \"Core i5 Touch Bar 33GHz ...</td>\n",
       "      <td>New MacBook Pro 13 inch Touch Bar 33 GHz Core ...</td>\n",
       "      <td>237.559.421</td>\n",
       "      <td>23.755.942</td>\n",
       "      <td>0</td>\n",
       "      <td>1,02E+12</td>\n",
       "    </tr>\n",
       "    <tr>\n",
       "      <th>18190</th>\n",
       "      <td>PAR0077</td>\n",
       "      <td>Parrot Bebop Drone 2 Power</td>\n",
       "      <td>Drone cuadricóptero quality camera integrated ...</td>\n",
       "      <td>699.9</td>\n",
       "      <td>6.733.892</td>\n",
       "      <td>0</td>\n",
       "      <td>11905404</td>\n",
       "    </tr>\n",
       "    <tr>\n",
       "      <th>18308</th>\n",
       "      <td>NKI0010</td>\n",
       "      <td>Nokia Wireless sphygmomanometer Plata</td>\n",
       "      <td>Sphygmomanometer for iPhone iPad and iPod App.</td>\n",
       "      <td>129.99</td>\n",
       "      <td>1.149.899</td>\n",
       "      <td>1</td>\n",
       "      <td>11905404</td>\n",
       "    </tr>\n",
       "    <tr>\n",
       "      <th>18514</th>\n",
       "      <td>PLA0035</td>\n",
       "      <td>Bluetooth Headset Plantronics Explorer 80</td>\n",
       "      <td>egonómico wireless headset design for iPhone i...</td>\n",
       "      <td>39.99</td>\n",
       "      <td>349.896</td>\n",
       "      <td>1</td>\n",
       "      <td>5384</td>\n",
       "    </tr>\n",
       "  </tbody>\n",
       "</table>\n",
       "<p>8746 rows × 7 columns</p>\n",
       "</div>"
      ],
      "text/plain": [
       "           sku                                               name  \\\n",
       "101    APP0390  Apple MacBook Pro 133 \"Core i5 25GHz | 4GB RAM...   \n",
       "102    APP0390  Apple MacBook Pro 133 \"Core i5 25GHz | 4GB RAM...   \n",
       "103    APP0390  Apple MacBook Pro 133 \"Core i5 25GHz | 4GB RAM...   \n",
       "104    APP0390  Apple MacBook Pro 133 \"Core i5 25GHz | 4GB RAM...   \n",
       "105    APP0390  Apple MacBook Pro 133 \"Core i5 25GHz | 4GB RAM...   \n",
       "...        ...                                                ...   \n",
       "16831  APP2302  Apple MacBook Pro 13 \"Core i5 Touch Bar 33GHz ...   \n",
       "16833  APP2303  Apple MacBook Pro 13 \"Core i5 Touch Bar 33GHz ...   \n",
       "18190  PAR0077                         Parrot Bebop Drone 2 Power   \n",
       "18308  NKI0010              Nokia Wireless sphygmomanometer Plata   \n",
       "18514  PLA0035          Bluetooth Headset Plantronics Explorer 80   \n",
       "\n",
       "                                                    desc        price  \\\n",
       "101          MacBook Pro laptop 133 inches (MD101Y / A).         1199   \n",
       "102          MacBook Pro laptop 133 inches (MD101Y / A).         1199   \n",
       "103          MacBook Pro laptop 133 inches (MD101Y / A).         1199   \n",
       "104          MacBook Pro laptop 133 inches (MD101Y / A).         1199   \n",
       "105          MacBook Pro laptop 133 inches (MD101Y / A).         1199   \n",
       "...                                                  ...          ...   \n",
       "16831  New MacBook Pro 13-inch Core i5 Touch Bar 33 G...   26.155.941   \n",
       "16833  New MacBook Pro 13 inch Touch Bar 33 GHz Core ...  237.559.421   \n",
       "18190  Drone cuadricóptero quality camera integrated ...        699.9   \n",
       "18308     Sphygmomanometer for iPhone iPad and iPod App.       129.99   \n",
       "18514  egonómico wireless headset design for iPhone i...        39.99   \n",
       "\n",
       "      promo_price  in_stock      type  \n",
       "101    11.455.917         0      1282  \n",
       "102    11.455.917         0      1282  \n",
       "103    11.455.917         0      1282  \n",
       "104    11.455.917         0      1282  \n",
       "105    11.455.917         0      1282  \n",
       "...           ...       ...       ...  \n",
       "16831  26.155.941         0  1,02E+12  \n",
       "16833  23.755.942         0  1,02E+12  \n",
       "18190   6.733.892         0  11905404  \n",
       "18308   1.149.899         1  11905404  \n",
       "18514     349.896         1      5384  \n",
       "\n",
       "[8746 rows x 7 columns]"
      ]
     },
     "execution_count": 176,
     "metadata": {},
     "output_type": "execute_result"
    }
   ],
   "source": [
    "#shows the duplicated rows\n",
    "products_duplicated_mask=copy_products_df.duplicated()\n",
    "copy_products_df.loc[products_duplicated_mask]"
   ]
  },
  {
   "cell_type": "code",
   "execution_count": 177,
   "id": "25438fcc-11f9-47e7-9a45-f41e9c792213",
   "metadata": {},
   "outputs": [],
   "source": [
    "#drop duplicated rows\n",
    "copy_products_df.drop_duplicates(inplace=True)"
   ]
  },
  {
   "cell_type": "code",
   "execution_count": 178,
   "id": "204bfd09-d7de-4bea-ab24-665b878898a9",
   "metadata": {},
   "outputs": [
    {
     "data": {
      "text/plain": [
       "np.int64(0)"
      ]
     },
     "execution_count": 178,
     "metadata": {},
     "output_type": "execute_result"
    }
   ],
   "source": [
    "#check again if duplicated have been drop\n",
    "copy_products_df.duplicated().sum()"
   ]
  },
  {
   "cell_type": "code",
   "execution_count": 179,
   "id": "51e34f6c-c8af-4fe9-b619-c40ff675c50d",
   "metadata": {},
   "outputs": [],
   "source": [
    "# we reset index so that starts with 0 with step=1\n",
    "copy_products_df=copy_products_df.reset_index(drop=True)"
   ]
  },
  {
   "cell_type": "code",
   "execution_count": 180,
   "id": "9cf6c906-42f0-4b34-852a-bd52d3174aad",
   "metadata": {},
   "outputs": [
    {
     "data": {
      "text/plain": [
       "np.int64(1)"
      ]
     },
     "execution_count": 180,
     "metadata": {},
     "output_type": "execute_result"
    }
   ],
   "source": [
    "#sku must be unique,we check if there is any duplicated sku\n",
    "copy_products_df['sku'].duplicated().sum()"
   ]
  },
  {
   "cell_type": "code",
   "execution_count": 181,
   "id": "bbaff38f-58a4-4984-864d-90edaa632194",
   "metadata": {},
   "outputs": [
    {
     "data": {
      "text/html": [
       "<div>\n",
       "<style scoped>\n",
       "    .dataframe tbody tr th:only-of-type {\n",
       "        vertical-align: middle;\n",
       "    }\n",
       "\n",
       "    .dataframe tbody tr th {\n",
       "        vertical-align: top;\n",
       "    }\n",
       "\n",
       "    .dataframe thead th {\n",
       "        text-align: right;\n",
       "    }\n",
       "</style>\n",
       "<table border=\"1\" class=\"dataframe\">\n",
       "  <thead>\n",
       "    <tr style=\"text-align: right;\">\n",
       "      <th></th>\n",
       "      <th>sku</th>\n",
       "      <th>name</th>\n",
       "      <th>desc</th>\n",
       "      <th>price</th>\n",
       "      <th>promo_price</th>\n",
       "      <th>in_stock</th>\n",
       "      <th>type</th>\n",
       "    </tr>\n",
       "  </thead>\n",
       "  <tbody>\n",
       "    <tr>\n",
       "      <th>2805</th>\n",
       "      <td>APP1197</td>\n",
       "      <td>Apple iMac 21.5 \"Core i5 31 GHz Retina display...</td>\n",
       "      <td>Desktop Apple iMac 21.5 inch i5 31 GHz Retina ...</td>\n",
       "      <td>NaN</td>\n",
       "      <td>1305.59</td>\n",
       "      <td>0</td>\n",
       "      <td>1282</td>\n",
       "    </tr>\n",
       "  </tbody>\n",
       "</table>\n",
       "</div>"
      ],
      "text/plain": [
       "          sku                                               name  \\\n",
       "2805  APP1197  Apple iMac 21.5 \"Core i5 31 GHz Retina display...   \n",
       "\n",
       "                                                   desc price promo_price  \\\n",
       "2805  Desktop Apple iMac 21.5 inch i5 31 GHz Retina ...   NaN     1305.59   \n",
       "\n",
       "      in_stock  type  \n",
       "2805         0  1282  "
      ]
     },
     "execution_count": 181,
     "metadata": {},
     "output_type": "execute_result"
    }
   ],
   "source": [
    "#which sku is duplicated\n",
    "sku_duplicated_mask=copy_products_df['sku'].duplicated()\n",
    "copy_products_df.loc[sku_duplicated_mask]"
   ]
  },
  {
   "cell_type": "code",
   "execution_count": 182,
   "id": "77fcc742-068f-4f74-bf0a-99871f8a7f1a",
   "metadata": {},
   "outputs": [
    {
     "data": {
      "text/html": [
       "<div>\n",
       "<style scoped>\n",
       "    .dataframe tbody tr th:only-of-type {\n",
       "        vertical-align: middle;\n",
       "    }\n",
       "\n",
       "    .dataframe tbody tr th {\n",
       "        vertical-align: top;\n",
       "    }\n",
       "\n",
       "    .dataframe thead th {\n",
       "        text-align: right;\n",
       "    }\n",
       "</style>\n",
       "<table border=\"1\" class=\"dataframe\">\n",
       "  <thead>\n",
       "    <tr style=\"text-align: right;\">\n",
       "      <th></th>\n",
       "      <th>sku</th>\n",
       "      <th>name</th>\n",
       "      <th>desc</th>\n",
       "      <th>price</th>\n",
       "      <th>promo_price</th>\n",
       "      <th>in_stock</th>\n",
       "      <th>type</th>\n",
       "    </tr>\n",
       "  </thead>\n",
       "  <tbody>\n",
       "    <tr>\n",
       "      <th>2804</th>\n",
       "      <td>APP1197</td>\n",
       "      <td>Apple iMac 21.5 \"Core i5 31 GHz Retina display...</td>\n",
       "      <td>Desktop Apple iMac 21.5 inch i5 31 GHz Retina ...</td>\n",
       "      <td>1729</td>\n",
       "      <td>1305.59</td>\n",
       "      <td>0</td>\n",
       "      <td>1282</td>\n",
       "    </tr>\n",
       "    <tr>\n",
       "      <th>2805</th>\n",
       "      <td>APP1197</td>\n",
       "      <td>Apple iMac 21.5 \"Core i5 31 GHz Retina display...</td>\n",
       "      <td>Desktop Apple iMac 21.5 inch i5 31 GHz Retina ...</td>\n",
       "      <td>NaN</td>\n",
       "      <td>1305.59</td>\n",
       "      <td>0</td>\n",
       "      <td>1282</td>\n",
       "    </tr>\n",
       "  </tbody>\n",
       "</table>\n",
       "</div>"
      ],
      "text/plain": [
       "          sku                                               name  \\\n",
       "2804  APP1197  Apple iMac 21.5 \"Core i5 31 GHz Retina display...   \n",
       "2805  APP1197  Apple iMac 21.5 \"Core i5 31 GHz Retina display...   \n",
       "\n",
       "                                                   desc price promo_price  \\\n",
       "2804  Desktop Apple iMac 21.5 inch i5 31 GHz Retina ...  1729     1305.59   \n",
       "2805  Desktop Apple iMac 21.5 inch i5 31 GHz Retina ...   NaN     1305.59   \n",
       "\n",
       "      in_stock  type  \n",
       "2804         0  1282  \n",
       "2805         0  1282  "
      ]
     },
     "execution_count": 182,
     "metadata": {},
     "output_type": "execute_result"
    }
   ],
   "source": [
    "#see the duplicated sku rows\n",
    "copy_products_df.loc[copy_products_df['sku']=='APP1197']"
   ]
  },
  {
   "cell_type": "code",
   "execution_count": 183,
   "id": "07475f61-e39b-44ea-86dd-3712c2d75df5",
   "metadata": {},
   "outputs": [],
   "source": [
    "#drop one of the duplicated sku rows\n",
    "copy_products_df.drop(2805,inplace=True)"
   ]
  },
  {
   "cell_type": "code",
   "execution_count": 184,
   "id": "b5fafafc-89ec-4068-a3eb-4a7113c10893",
   "metadata": {},
   "outputs": [
    {
     "data": {
      "text/plain": [
       "np.int64(0)"
      ]
     },
     "execution_count": 184,
     "metadata": {},
     "output_type": "execute_result"
    }
   ],
   "source": [
    "copy_products_df['sku'].duplicated().sum()"
   ]
  },
  {
   "cell_type": "code",
   "execution_count": 185,
   "id": "200190e5-eb60-4bdb-8810-15cc8b4b9126",
   "metadata": {},
   "outputs": [
    {
     "data": {
      "text/plain": [
       "np.int64(0)"
      ]
     },
     "execution_count": 185,
     "metadata": {},
     "output_type": "execute_result"
    }
   ],
   "source": [
    "#check if duplicated sku is droped\n",
    "copy_products_df['sku'].duplicated().sum()"
   ]
  },
  {
   "cell_type": "code",
   "execution_count": 186,
   "id": "7df9e560-7ae7-4e8d-901e-3f938f6591d7",
   "metadata": {},
   "outputs": [
    {
     "data": {
      "text/plain": [
       "sku             0\n",
       "name            0\n",
       "desc            7\n",
       "price          45\n",
       "promo_price     0\n",
       "in_stock        0\n",
       "type           50\n",
       "dtype: int64"
      ]
     },
     "execution_count": 186,
     "metadata": {},
     "output_type": "execute_result"
    }
   ],
   "source": [
    "#check where we have null values in products\n",
    "copy_products_df.isnull().sum()"
   ]
  },
  {
   "cell_type": "code",
   "execution_count": 187,
   "id": "35b2e0a5-de5f-42d0-a7c9-055ab2097ea7",
   "metadata": {},
   "outputs": [],
   "source": [
    "#we can replace null descriptions with unknown\n",
    "copy_products_df.loc[copy_products_df['desc'].isnull(),'desc']='unknown'"
   ]
  },
  {
   "cell_type": "code",
   "execution_count": 188,
   "id": "684f0efd-b192-47e9-af3f-cfe32dcc008e",
   "metadata": {},
   "outputs": [],
   "source": [
    "#because price is an important column, we need to drop those rows with null prices\n",
    "copy_products_df.dropna(subset='price',inplace=True)"
   ]
  },
  {
   "cell_type": "code",
   "execution_count": 189,
   "id": "7ea3a892-e7db-4b98-a17f-0ecc92ebb451",
   "metadata": {},
   "outputs": [],
   "source": [
    "# we can replace null types with 0\n",
    "copy_products_df.loc[copy_products_df['type'].isnull(),'type']=0"
   ]
  },
  {
   "cell_type": "code",
   "execution_count": 190,
   "id": "e02aeb5e-eea6-45ab-a1f2-3f9cf922fef2",
   "metadata": {},
   "outputs": [
    {
     "data": {
      "text/plain": [
       "sku            0\n",
       "name           0\n",
       "desc           0\n",
       "price          0\n",
       "promo_price    0\n",
       "in_stock       0\n",
       "type           0\n",
       "dtype: int64"
      ]
     },
     "execution_count": 190,
     "metadata": {},
     "output_type": "execute_result"
    }
   ],
   "source": [
    "#we dont have any null values in products data frame anymore\n",
    "copy_products_df.isnull().sum()"
   ]
  },
  {
   "cell_type": "code",
   "execution_count": 191,
   "id": "b41e333e-f9e0-4523-9575-4a8bc702e229",
   "metadata": {},
   "outputs": [],
   "source": [
    "# price and promo_price needs to be converted into float type "
   ]
  },
  {
   "cell_type": "code",
   "execution_count": 192,
   "id": "d8a74154-cf2b-4236-8e3f-e2a668165677",
   "metadata": {},
   "outputs": [],
   "source": [
    "#if you try to convert them you get an error\n",
    "# pd.to_numeric(copy_products_df['price'])\n",
    "# pd.to_numeric(copy_products_df['promo_price'])\n",
    "# It seems that we have some unsual prices with two periods in them"
   ]
  },
  {
   "cell_type": "code",
   "execution_count": 193,
   "id": "dd4ced14-83bf-46b1-823c-270e1a0408ee",
   "metadata": {},
   "outputs": [
    {
     "data": {
      "text/plain": [
       "price\n",
       "False    0.964211\n",
       "True     0.035789\n",
       "Name: proportion, dtype: float64"
      ]
     },
     "execution_count": 193,
     "metadata": {},
     "output_type": "execute_result"
    }
   ],
   "source": [
    "#lets see how many unusual prices do we have\n",
    "(copy_products_df['price'].str.count(r'\\.')>1).value_counts(normalize=True)"
   ]
  },
  {
   "cell_type": "code",
   "execution_count": 194,
   "id": "aa2e9f2c-e0f4-47ce-9629-f85c088bfea9",
   "metadata": {},
   "outputs": [
    {
     "data": {
      "text/html": [
       "<div>\n",
       "<style scoped>\n",
       "    .dataframe tbody tr th:only-of-type {\n",
       "        vertical-align: middle;\n",
       "    }\n",
       "\n",
       "    .dataframe tbody tr th {\n",
       "        vertical-align: top;\n",
       "    }\n",
       "\n",
       "    .dataframe thead th {\n",
       "        text-align: right;\n",
       "    }\n",
       "</style>\n",
       "<table border=\"1\" class=\"dataframe\">\n",
       "  <thead>\n",
       "    <tr style=\"text-align: right;\">\n",
       "      <th></th>\n",
       "      <th>promo_price</th>\n",
       "      <th>proportion</th>\n",
       "    </tr>\n",
       "  </thead>\n",
       "  <tbody>\n",
       "    <tr>\n",
       "      <th>0</th>\n",
       "      <td>False</td>\n",
       "      <td>0.563604</td>\n",
       "    </tr>\n",
       "    <tr>\n",
       "      <th>1</th>\n",
       "      <td>True</td>\n",
       "      <td>0.436396</td>\n",
       "    </tr>\n",
       "  </tbody>\n",
       "</table>\n",
       "</div>"
      ],
      "text/plain": [
       "   promo_price  proportion\n",
       "0        False    0.563604\n",
       "1         True    0.436396"
      ]
     },
     "execution_count": 194,
     "metadata": {},
     "output_type": "execute_result"
    }
   ],
   "source": [
    "#lets see how many unusual promotion prices do we have\n",
    "(copy_products_df['promo_price'].str.count(r'\\.')>1).value_counts(normalize=True).reset_index()"
   ]
  },
  {
   "cell_type": "code",
   "execution_count": 195,
   "id": "20835e3b-16d0-4833-824c-ea8f78580992",
   "metadata": {},
   "outputs": [
    {
     "data": {
      "text/plain": [
       "False    0.973799\n",
       "True     0.026201\n",
       "Name: proportion, dtype: float64"
      ]
     },
     "execution_count": 195,
     "metadata": {},
     "output_type": "execute_result"
    }
   ],
   "source": [
    "#lets see how many unusula price and promotion price do we have\n",
    "((copy_products_df['promo_price'].str.count(r'\\.')>1) & (copy_products_df['price'].str.count(r'\\.')>1)).value_counts(normalize=True)"
   ]
  },
  {
   "cell_type": "code",
   "execution_count": 196,
   "id": "78cb0e10-68cf-40e4-9a68-fae43295d693",
   "metadata": {},
   "outputs": [],
   "source": [
    "# As around 43 percent of promotion prices are corrupted, we just have to drop the column\n",
    "# This is an important column but we have a dynamic unit_price in orderlines which can represent the promotion price very good\n",
    "copy_products_df.drop('promo_price',axis=1,inplace=True)"
   ]
  },
  {
   "cell_type": "code",
   "execution_count": 197,
   "id": "56595246-b3b2-4cd5-8216-6379e98aff5a",
   "metadata": {},
   "outputs": [
    {
     "data": {
      "text/html": [
       "<div>\n",
       "<style scoped>\n",
       "    .dataframe tbody tr th:only-of-type {\n",
       "        vertical-align: middle;\n",
       "    }\n",
       "\n",
       "    .dataframe tbody tr th {\n",
       "        vertical-align: top;\n",
       "    }\n",
       "\n",
       "    .dataframe thead th {\n",
       "        text-align: right;\n",
       "    }\n",
       "</style>\n",
       "<table border=\"1\" class=\"dataframe\">\n",
       "  <thead>\n",
       "    <tr style=\"text-align: right;\">\n",
       "      <th></th>\n",
       "      <th>price</th>\n",
       "      <th>unit_price</th>\n",
       "    </tr>\n",
       "  </thead>\n",
       "  <tbody>\n",
       "    <tr>\n",
       "      <th>3973</th>\n",
       "      <td>13.290.011</td>\n",
       "      <td>1.329.00</td>\n",
       "    </tr>\n",
       "    <tr>\n",
       "      <th>737</th>\n",
       "      <td>6.628.114</td>\n",
       "      <td>632.99</td>\n",
       "    </tr>\n",
       "    <tr>\n",
       "      <th>1332</th>\n",
       "      <td>1.499.892</td>\n",
       "      <td>146.99</td>\n",
       "    </tr>\n",
       "    <tr>\n",
       "      <th>2915</th>\n",
       "      <td>115.900.092</td>\n",
       "      <td>1.159.00</td>\n",
       "    </tr>\n",
       "    <tr>\n",
       "      <th>2536</th>\n",
       "      <td>1.990.002</td>\n",
       "      <td>199.00</td>\n",
       "    </tr>\n",
       "    <tr>\n",
       "      <th>2487</th>\n",
       "      <td>1.990.002</td>\n",
       "      <td>199.00</td>\n",
       "    </tr>\n",
       "    <tr>\n",
       "      <th>841</th>\n",
       "      <td>4.519.592</td>\n",
       "      <td>347.58</td>\n",
       "    </tr>\n",
       "    <tr>\n",
       "      <th>95</th>\n",
       "      <td>1.639.792</td>\n",
       "      <td>128.99</td>\n",
       "    </tr>\n",
       "    <tr>\n",
       "      <th>833</th>\n",
       "      <td>4.519.592</td>\n",
       "      <td>6.59</td>\n",
       "    </tr>\n",
       "    <tr>\n",
       "      <th>56</th>\n",
       "      <td>1.639.792</td>\n",
       "      <td>124.99</td>\n",
       "    </tr>\n",
       "    <tr>\n",
       "      <th>272</th>\n",
       "      <td>1.639.792</td>\n",
       "      <td>138.99</td>\n",
       "    </tr>\n",
       "    <tr>\n",
       "      <th>3842</th>\n",
       "      <td>13.290.011</td>\n",
       "      <td>1.329.00</td>\n",
       "    </tr>\n",
       "    <tr>\n",
       "      <th>2420</th>\n",
       "      <td>1.990.002</td>\n",
       "      <td>185.07</td>\n",
       "    </tr>\n",
       "    <tr>\n",
       "      <th>2317</th>\n",
       "      <td>1.199.897</td>\n",
       "      <td>96.76</td>\n",
       "    </tr>\n",
       "    <tr>\n",
       "      <th>2128</th>\n",
       "      <td>17.638.385</td>\n",
       "      <td>1.509.80</td>\n",
       "    </tr>\n",
       "    <tr>\n",
       "      <th>2275</th>\n",
       "      <td>31.255.946</td>\n",
       "      <td>NaN</td>\n",
       "    </tr>\n",
       "    <tr>\n",
       "      <th>963</th>\n",
       "      <td>2.499.013</td>\n",
       "      <td>23.74</td>\n",
       "    </tr>\n",
       "    <tr>\n",
       "      <th>1759</th>\n",
       "      <td>3.329.896</td>\n",
       "      <td>319.31</td>\n",
       "    </tr>\n",
       "    <tr>\n",
       "      <th>3060</th>\n",
       "      <td>115.900.092</td>\n",
       "      <td>1.159.00</td>\n",
       "    </tr>\n",
       "    <tr>\n",
       "      <th>1350</th>\n",
       "      <td>5.529.696</td>\n",
       "      <td>500.64</td>\n",
       "    </tr>\n",
       "    <tr>\n",
       "      <th>389</th>\n",
       "      <td>1.639.792</td>\n",
       "      <td>140.77</td>\n",
       "    </tr>\n",
       "    <tr>\n",
       "      <th>1579</th>\n",
       "      <td>3.043.585</td>\n",
       "      <td>231.65</td>\n",
       "    </tr>\n",
       "    <tr>\n",
       "      <th>4051</th>\n",
       "      <td>13.290.011</td>\n",
       "      <td>1.329.00</td>\n",
       "    </tr>\n",
       "    <tr>\n",
       "      <th>1542</th>\n",
       "      <td>1.299.431</td>\n",
       "      <td>115.99</td>\n",
       "    </tr>\n",
       "    <tr>\n",
       "      <th>2553</th>\n",
       "      <td>1.990.002</td>\n",
       "      <td>191.00</td>\n",
       "    </tr>\n",
       "    <tr>\n",
       "      <th>1727</th>\n",
       "      <td>3.776.292</td>\n",
       "      <td>343.58</td>\n",
       "    </tr>\n",
       "    <tr>\n",
       "      <th>829</th>\n",
       "      <td>4.519.592</td>\n",
       "      <td>338.58</td>\n",
       "    </tr>\n",
       "    <tr>\n",
       "      <th>2649</th>\n",
       "      <td>21.900.032</td>\n",
       "      <td>219.00</td>\n",
       "    </tr>\n",
       "    <tr>\n",
       "      <th>2269</th>\n",
       "      <td>336.559.443</td>\n",
       "      <td>NaN</td>\n",
       "    </tr>\n",
       "    <tr>\n",
       "      <th>307</th>\n",
       "      <td>1.639.792</td>\n",
       "      <td>148.99</td>\n",
       "    </tr>\n",
       "    <tr>\n",
       "      <th>2606</th>\n",
       "      <td>1.990.002</td>\n",
       "      <td>199.00</td>\n",
       "    </tr>\n",
       "    <tr>\n",
       "      <th>3836</th>\n",
       "      <td>13.290.011</td>\n",
       "      <td>1.329.00</td>\n",
       "    </tr>\n",
       "    <tr>\n",
       "      <th>3796</th>\n",
       "      <td>13.290.011</td>\n",
       "      <td>1.329.00</td>\n",
       "    </tr>\n",
       "    <tr>\n",
       "      <th>1762</th>\n",
       "      <td>1.949.891</td>\n",
       "      <td>172.91</td>\n",
       "    </tr>\n",
       "    <tr>\n",
       "      <th>2959</th>\n",
       "      <td>115.900.092</td>\n",
       "      <td>1.159.00</td>\n",
       "    </tr>\n",
       "    <tr>\n",
       "      <th>2111</th>\n",
       "      <td>14.687.885</td>\n",
       "      <td>1.319.96</td>\n",
       "    </tr>\n",
       "    <tr>\n",
       "      <th>4155</th>\n",
       "      <td>13.290.011</td>\n",
       "      <td>1.329.00</td>\n",
       "    </tr>\n",
       "    <tr>\n",
       "      <th>2866</th>\n",
       "      <td>115.900.092</td>\n",
       "      <td>1.159.00</td>\n",
       "    </tr>\n",
       "    <tr>\n",
       "      <th>3921</th>\n",
       "      <td>13.290.011</td>\n",
       "      <td>1.329.00</td>\n",
       "    </tr>\n",
       "    <tr>\n",
       "      <th>3672</th>\n",
       "      <td>13.290.011</td>\n",
       "      <td>1.329.00</td>\n",
       "    </tr>\n",
       "    <tr>\n",
       "      <th>1866</th>\n",
       "      <td>1.299.903</td>\n",
       "      <td>NaN</td>\n",
       "    </tr>\n",
       "    <tr>\n",
       "      <th>3106</th>\n",
       "      <td>115.900.092</td>\n",
       "      <td>1.139.00</td>\n",
       "    </tr>\n",
       "    <tr>\n",
       "      <th>4258</th>\n",
       "      <td>2.049.946</td>\n",
       "      <td>212.79</td>\n",
       "    </tr>\n",
       "    <tr>\n",
       "      <th>3740</th>\n",
       "      <td>13.290.011</td>\n",
       "      <td>1.329.00</td>\n",
       "    </tr>\n",
       "    <tr>\n",
       "      <th>480</th>\n",
       "      <td>1.639.792</td>\n",
       "      <td>158.99</td>\n",
       "    </tr>\n",
       "    <tr>\n",
       "      <th>1965</th>\n",
       "      <td>8.276.703</td>\n",
       "      <td>839.00</td>\n",
       "    </tr>\n",
       "    <tr>\n",
       "      <th>640</th>\n",
       "      <td>1.639.792</td>\n",
       "      <td>162.99</td>\n",
       "    </tr>\n",
       "    <tr>\n",
       "      <th>1657</th>\n",
       "      <td>4.306.292</td>\n",
       "      <td>344.18</td>\n",
       "    </tr>\n",
       "    <tr>\n",
       "      <th>2703</th>\n",
       "      <td>115.900.092</td>\n",
       "      <td>1.159.00</td>\n",
       "    </tr>\n",
       "    <tr>\n",
       "      <th>2983</th>\n",
       "      <td>115.900.092</td>\n",
       "      <td>1.159.00</td>\n",
       "    </tr>\n",
       "  </tbody>\n",
       "</table>\n",
       "</div>"
      ],
      "text/plain": [
       "            price unit_price\n",
       "3973   13.290.011   1.329.00\n",
       "737     6.628.114     632.99\n",
       "1332    1.499.892     146.99\n",
       "2915  115.900.092   1.159.00\n",
       "2536    1.990.002     199.00\n",
       "2487    1.990.002     199.00\n",
       "841     4.519.592     347.58\n",
       "95      1.639.792     128.99\n",
       "833     4.519.592       6.59\n",
       "56      1.639.792     124.99\n",
       "272     1.639.792     138.99\n",
       "3842   13.290.011   1.329.00\n",
       "2420    1.990.002     185.07\n",
       "2317    1.199.897      96.76\n",
       "2128   17.638.385   1.509.80\n",
       "2275   31.255.946        NaN\n",
       "963     2.499.013      23.74\n",
       "1759    3.329.896     319.31\n",
       "3060  115.900.092   1.159.00\n",
       "1350    5.529.696     500.64\n",
       "389     1.639.792     140.77\n",
       "1579    3.043.585     231.65\n",
       "4051   13.290.011   1.329.00\n",
       "1542    1.299.431     115.99\n",
       "2553    1.990.002     191.00\n",
       "1727    3.776.292     343.58\n",
       "829     4.519.592     338.58\n",
       "2649   21.900.032     219.00\n",
       "2269  336.559.443        NaN\n",
       "307     1.639.792     148.99\n",
       "2606    1.990.002     199.00\n",
       "3836   13.290.011   1.329.00\n",
       "3796   13.290.011   1.329.00\n",
       "1762    1.949.891     172.91\n",
       "2959  115.900.092   1.159.00\n",
       "2111   14.687.885   1.319.96\n",
       "4155   13.290.011   1.329.00\n",
       "2866  115.900.092   1.159.00\n",
       "3921   13.290.011   1.329.00\n",
       "3672   13.290.011   1.329.00\n",
       "1866    1.299.903        NaN\n",
       "3106  115.900.092   1.139.00\n",
       "4258    2.049.946     212.79\n",
       "3740   13.290.011   1.329.00\n",
       "480     1.639.792     158.99\n",
       "1965    8.276.703     839.00\n",
       "640     1.639.792     162.99\n",
       "1657    4.306.292     344.18\n",
       "2703  115.900.092   1.159.00\n",
       "2983  115.900.092   1.159.00"
      ]
     },
     "execution_count": 197,
     "metadata": {},
     "output_type": "execute_result"
    }
   ],
   "source": [
    "#lets take a look of those prices that are corrupted to maybe find some correlation to fix them\n",
    "#we make a numberic_price that its value is either price for not corrputed values and null for corrupted ones\n",
    "copy_products_df['numeric_price']=pd.to_numeric(copy_products_df['price'],errors='coerce')\n",
    "corrupted_price_copy_products_df=copy_products_df.loc[copy_products_df['numeric_price'].isnull(),]\n",
    "# to look for a correlation we need to take a look at promotion price for these skus, so we merge this df with orderlines\n",
    "corrupted_price_products_orderlines_merged=corrupted_price_copy_products_df.merge(copy_orderlines_df,on='sku',how='left')\n",
    "corrupted_price_products_orderlines_merged.loc[:,['price','unit_price']].sample(50)\n",
    "# It seems that we do not have any correlatin and the only way is to drop the small porion of corrupted prices"
   ]
  },
  {
   "cell_type": "code",
   "execution_count": 198,
   "id": "3efe3406-94e2-460d-ae8f-6dc402c82f12",
   "metadata": {},
   "outputs": [],
   "source": [
    "# we drop the rows with unusual prices\n",
    "copy_products_df=copy_products_df[copy_products_df['price'].str.count(r'\\.')==1]"
   ]
  },
  {
   "cell_type": "code",
   "execution_count": 199,
   "id": "439b7d99-d143-4f4e-8a3a-7bb8e9e979f4",
   "metadata": {},
   "outputs": [],
   "source": [
    "# now we can convert prices to numeric\n",
    "copy_products_df['price']=pd.to_numeric(copy_products_df['price'])"
   ]
  },
  {
   "cell_type": "code",
   "execution_count": 200,
   "id": "b0b68be6-ff84-45be-a42d-3923680cf294",
   "metadata": {},
   "outputs": [],
   "source": [
    "#and also we dont need numeric price anymore\n",
    "copy_products_df.drop('numeric_price',axis=1,inplace=True)"
   ]
  },
  {
   "cell_type": "code",
   "execution_count": 201,
   "id": "d35aa821-5fab-4081-95f2-e2641d98794b",
   "metadata": {},
   "outputs": [
    {
     "name": "stdout",
     "output_type": "stream",
     "text": [
      "<class 'pandas.core.frame.DataFrame'>\n",
      "Index: 6942 entries, 0 to 10579\n",
      "Data columns (total 6 columns):\n",
      " #   Column    Non-Null Count  Dtype  \n",
      "---  ------    --------------  -----  \n",
      " 0   sku       6942 non-null   object \n",
      " 1   name      6942 non-null   object \n",
      " 2   desc      6942 non-null   object \n",
      " 3   price     6942 non-null   float64\n",
      " 4   in_stock  6942 non-null   int64  \n",
      " 5   type      6942 non-null   object \n",
      "dtypes: float64(1), int64(1), object(4)\n",
      "memory usage: 379.6+ KB\n"
     ]
    }
   ],
   "source": [
    "#check if now the tyes are correct\n",
    "copy_products_df.info()"
   ]
  },
  {
   "cell_type": "code",
   "execution_count": 202,
   "id": "d6d01c2c-48a9-459d-9b51-a11ec7a65e0f",
   "metadata": {},
   "outputs": [],
   "source": [
    "# we need to reset indexes after the cleaning is finished \n",
    "copy_products_df.reset_index(drop=True,inplace=True)"
   ]
  },
  {
   "cell_type": "code",
   "execution_count": 203,
   "id": "7f480f0a-3479-4577-a84f-531d92a6e1aa",
   "metadata": {},
   "outputs": [],
   "source": [
    "copy_products_df.to_csv('../data/clean/products_cl.csv')"
   ]
  },
  {
   "cell_type": "markdown",
   "id": "6b8b19b2-396d-4372-83b5-2fa8e3e44ec1",
   "metadata": {},
   "source": [
    "### Data cleaning \n",
    "#### Orders"
   ]
  },
  {
   "cell_type": "code",
   "execution_count": 204,
   "id": "cc8a2718-0e23-4113-8c65-90cd82dac339",
   "metadata": {},
   "outputs": [
    {
     "data": {
      "text/plain": [
       "np.int64(0)"
      ]
     },
     "execution_count": 204,
     "metadata": {},
     "output_type": "execute_result"
    }
   ],
   "source": [
    "#search for duplicated rows\n",
    "copy_orders_df.duplicated().sum()"
   ]
  },
  {
   "cell_type": "code",
   "execution_count": 205,
   "id": "2c9961d1-56dd-468c-a3b1-3a9eeae02e45",
   "metadata": {},
   "outputs": [
    {
     "data": {
      "text/plain": [
       "order_id        0\n",
       "created_date    0\n",
       "total_paid      5\n",
       "state           0\n",
       "dtype: int64"
      ]
     },
     "execution_count": 205,
     "metadata": {},
     "output_type": "execute_result"
    }
   ],
   "source": [
    "#check where we have null values\n",
    "copy_orders_df.isnull().sum()"
   ]
  },
  {
   "cell_type": "code",
   "execution_count": 206,
   "id": "65f2bc7b-daa6-4f9a-bc9f-ab6c7a078112",
   "metadata": {},
   "outputs": [
    {
     "data": {
      "text/html": [
       "<div>\n",
       "<style scoped>\n",
       "    .dataframe tbody tr th:only-of-type {\n",
       "        vertical-align: middle;\n",
       "    }\n",
       "\n",
       "    .dataframe tbody tr th {\n",
       "        vertical-align: top;\n",
       "    }\n",
       "\n",
       "    .dataframe thead th {\n",
       "        text-align: right;\n",
       "    }\n",
       "</style>\n",
       "<table border=\"1\" class=\"dataframe\">\n",
       "  <thead>\n",
       "    <tr style=\"text-align: right;\">\n",
       "      <th></th>\n",
       "      <th>order_id</th>\n",
       "      <th>created_date</th>\n",
       "      <th>total_paid</th>\n",
       "      <th>state</th>\n",
       "    </tr>\n",
       "  </thead>\n",
       "  <tbody>\n",
       "    <tr>\n",
       "      <th>127701</th>\n",
       "      <td>427314</td>\n",
       "      <td>2017-11-20 18:54:39</td>\n",
       "      <td>NaN</td>\n",
       "      <td>Pending</td>\n",
       "    </tr>\n",
       "    <tr>\n",
       "      <th>132013</th>\n",
       "      <td>431655</td>\n",
       "      <td>2017-11-22 12:15:24</td>\n",
       "      <td>NaN</td>\n",
       "      <td>Pending</td>\n",
       "    </tr>\n",
       "    <tr>\n",
       "      <th>147316</th>\n",
       "      <td>447411</td>\n",
       "      <td>2017-11-27 10:32:37</td>\n",
       "      <td>NaN</td>\n",
       "      <td>Pending</td>\n",
       "    </tr>\n",
       "    <tr>\n",
       "      <th>148833</th>\n",
       "      <td>448966</td>\n",
       "      <td>2017-11-27 18:54:15</td>\n",
       "      <td>NaN</td>\n",
       "      <td>Pending</td>\n",
       "    </tr>\n",
       "    <tr>\n",
       "      <th>149434</th>\n",
       "      <td>449596</td>\n",
       "      <td>2017-11-27 21:52:08</td>\n",
       "      <td>NaN</td>\n",
       "      <td>Pending</td>\n",
       "    </tr>\n",
       "  </tbody>\n",
       "</table>\n",
       "</div>"
      ],
      "text/plain": [
       "        order_id         created_date  total_paid    state\n",
       "127701    427314  2017-11-20 18:54:39         NaN  Pending\n",
       "132013    431655  2017-11-22 12:15:24         NaN  Pending\n",
       "147316    447411  2017-11-27 10:32:37         NaN  Pending\n",
       "148833    448966  2017-11-27 18:54:15         NaN  Pending\n",
       "149434    449596  2017-11-27 21:52:08         NaN  Pending"
      ]
     },
     "execution_count": 206,
     "metadata": {},
     "output_type": "execute_result"
    }
   ],
   "source": [
    "# take a look at null total_paid rows\n",
    "copy_orders_df.loc[copy_orders_df['total_paid'].isnull()]"
   ]
  },
  {
   "cell_type": "code",
   "execution_count": 207,
   "id": "269d26f8-e865-4f08-8292-3a01e8599265",
   "metadata": {},
   "outputs": [],
   "source": [
    "# the state is prnding. These orders have not been placed. We can simply remove them\n",
    "copy_orders_df=copy_orders_df.loc[~(copy_orders_df['total_paid'].isnull())]"
   ]
  },
  {
   "cell_type": "code",
   "execution_count": 208,
   "id": "6ae01235-9c78-4dc7-8134-e5bd3753d98b",
   "metadata": {},
   "outputs": [
    {
     "data": {
      "text/plain": [
       "order_id        0\n",
       "created_date    0\n",
       "total_paid      0\n",
       "state           0\n",
       "dtype: int64"
      ]
     },
     "execution_count": 208,
     "metadata": {},
     "output_type": "execute_result"
    }
   ],
   "source": [
    "#check if there is no null values \n",
    "copy_orders_df.isnull().sum()"
   ]
  },
  {
   "cell_type": "code",
   "execution_count": 209,
   "id": "8ab19e81-e539-4a2a-a41e-a200c377ffc4",
   "metadata": {},
   "outputs": [
    {
     "name": "stdout",
     "output_type": "stream",
     "text": [
      "<class 'pandas.core.frame.DataFrame'>\n",
      "Index: 226904 entries, 0 to 226908\n",
      "Data columns (total 4 columns):\n",
      " #   Column        Non-Null Count   Dtype  \n",
      "---  ------        --------------   -----  \n",
      " 0   order_id      226904 non-null  int64  \n",
      " 1   created_date  226904 non-null  object \n",
      " 2   total_paid    226904 non-null  float64\n",
      " 3   state         226904 non-null  object \n",
      "dtypes: float64(1), int64(1), object(2)\n",
      "memory usage: 8.7+ MB\n"
     ]
    }
   ],
   "source": [
    "#take a look at dataframe statistical info\n",
    "copy_orders_df.info()"
   ]
  },
  {
   "cell_type": "code",
   "execution_count": 210,
   "id": "dd045446-62c6-4a91-8622-8ca2530bac90",
   "metadata": {},
   "outputs": [],
   "source": [
    "#We need to reset the index again\n",
    "copy_orders_df.reset_index(drop=True,inplace=True)"
   ]
  },
  {
   "cell_type": "markdown",
   "id": "c83a1ff4-6d2f-4ac7-8a7e-fb2bc39be2b3",
   "metadata": {},
   "source": [
    "### Data cleaning\n",
    "#### Brands\n"
   ]
  },
  {
   "cell_type": "code",
   "execution_count": 212,
   "id": "c8c44b1b-5f32-44ce-8c24-06ffcfcd4b49",
   "metadata": {},
   "outputs": [
    {
     "data": {
      "text/plain": [
       "np.int64(0)"
      ]
     },
     "execution_count": 212,
     "metadata": {},
     "output_type": "execute_result"
    }
   ],
   "source": [
    "#check for duplicated rows\n",
    "copy_brands_df.duplicated().sum()"
   ]
  },
  {
   "cell_type": "code",
   "execution_count": 213,
   "id": "59f286e0-ad19-4270-9b5d-b229d8e7c40b",
   "metadata": {},
   "outputs": [
    {
     "data": {
      "text/plain": [
       "short    0\n",
       "long     0\n",
       "dtype: int64"
      ]
     },
     "execution_count": 213,
     "metadata": {},
     "output_type": "execute_result"
    }
   ],
   "source": [
    "#check for null values\n",
    "copy_brands_df.isnull().sum()"
   ]
  },
  {
   "cell_type": "code",
   "execution_count": 214,
   "id": "c2873833-5af1-4833-9394-a4ffc86dc34b",
   "metadata": {},
   "outputs": [
    {
     "name": "stdout",
     "output_type": "stream",
     "text": [
      "<class 'pandas.core.frame.DataFrame'>\n",
      "RangeIndex: 187 entries, 0 to 186\n",
      "Data columns (total 2 columns):\n",
      " #   Column  Non-Null Count  Dtype \n",
      "---  ------  --------------  ----- \n",
      " 0   short   187 non-null    object\n",
      " 1   long    187 non-null    object\n",
      "dtypes: object(2)\n",
      "memory usage: 3.1+ KB\n"
     ]
    }
   ],
   "source": [
    "#check the data types\n",
    "copy_brands_df.info()"
   ]
  },
  {
   "cell_type": "code",
   "execution_count": null,
   "id": "0d34b805-90a0-4fec-b2d0-03adb656cd64",
   "metadata": {},
   "outputs": [],
   "source": [
    "#brands data frame does not need any cleaning."
   ]
  }
 ],
 "metadata": {
  "kernelspec": {
   "display_name": "Python 3 (ipykernel)",
   "language": "python",
   "name": "python3"
  },
  "language_info": {
   "codemirror_mode": {
    "name": "ipython",
    "version": 3
   },
   "file_extension": ".py",
   "mimetype": "text/x-python",
   "name": "python",
   "nbconvert_exporter": "python",
   "pygments_lexer": "ipython3",
   "version": "3.13.3"
  }
 },
 "nbformat": 4,
 "nbformat_minor": 5
}
