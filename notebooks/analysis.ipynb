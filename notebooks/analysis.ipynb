{
 "cells": [
  {
   "cell_type": "code",
   "execution_count": 1,
   "id": "1e137a38-faa6-49f6-af37-8c41cad300c1",
   "metadata": {},
   "outputs": [],
   "source": [
    "import pandas as pd\n",
    "import seaborn as sns"
   ]
  },
  {
   "cell_type": "markdown",
   "id": "6fd2c0bd-d0ae-403b-bee9-3e66fbbc6487",
   "metadata": {},
   "source": [
    "### Create Data Frames"
   ]
  },
  {
   "cell_type": "code",
   "execution_count": null,
   "id": "c09eeedf-a5f4-445f-a4c6-b8c8f773225b",
   "metadata": {},
   "outputs": [],
   "source": [
    "base_raw_data_path='../data/raw'"
   ]
  },
  {
   "cell_type": "code",
   "execution_count": 2,
   "id": "aa9360ee-83f3-47f5-8da1-d33a164c0df3",
   "metadata": {},
   "outputs": [],
   "source": [
    "products_df=pd.read_csv(f'{base_raw_data_path}/products.csv')\n",
    "orders_df"
   ]
  },
  {
   "cell_type": "code",
   "execution_count": null,
   "id": "28eba297-4794-4003-9c8a-b75c3c901ea7",
   "metadata": {},
   "outputs": [],
   "source": []
  }
 ],
 "metadata": {
  "kernelspec": {
   "display_name": "Python 3 (ipykernel)",
   "language": "python",
   "name": "python3"
  },
  "language_info": {
   "codemirror_mode": {
    "name": "ipython",
    "version": 3
   },
   "file_extension": ".py",
   "mimetype": "text/x-python",
   "name": "python",
   "nbconvert_exporter": "python",
   "pygments_lexer": "ipython3",
   "version": "3.13.3"
  }
 },
 "nbformat": 4,
 "nbformat_minor": 5
}
