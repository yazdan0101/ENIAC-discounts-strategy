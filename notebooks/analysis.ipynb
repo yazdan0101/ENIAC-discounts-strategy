{
 "cells": [
  {
   "cell_type": "code",
   "execution_count": 1,
   "id": "1e137a38-faa6-49f6-af37-8c41cad300c1",
   "metadata": {},
   "outputs": [],
   "source": [
    "import pandas as pd\n",
    "import seaborn as sns"
   ]
  },
  {
   "cell_type": "markdown",
   "id": "6fd2c0bd-d0ae-403b-bee9-3e66fbbc6487",
   "metadata": {},
   "source": [
    "### Create Data Frames"
   ]
  },
  {
   "cell_type": "code",
   "execution_count": 5,
   "id": "c09eeedf-a5f4-445f-a4c6-b8c8f773225b",
   "metadata": {},
   "outputs": [],
   "source": [
    "base_raw_data_path='../data/raw'"
   ]
  },
  {
   "cell_type": "code",
   "execution_count": 6,
   "id": "aa9360ee-83f3-47f5-8da1-d33a164c0df3",
   "metadata": {},
   "outputs": [],
   "source": [
    "products_df=pd.read_csv(f'{base_raw_data_path}/products.csv')\n",
    "orders_df=pd.read_csv(f'{base_raw_data_path}/orders.csv')\n",
    "orderlines_df=pd.read_csv(f'{base_raw_data_path}/orderlines.csv')\n",
    "brands_df=pd.read_csv(f'{base_raw_data_path}/brands.csv')"
   ]
  },
  {
   "cell_type": "code",
   "execution_count": null,
   "id": "c3c63805-aed9-4483-b7c2-f787116f6cce",
   "metadata": {},
   "outputs": [],
   "source": []
  }
 ],
 "metadata": {
  "kernelspec": {
   "display_name": "Python 3 (ipykernel)",
   "language": "python",
   "name": "python3"
  },
  "language_info": {
   "codemirror_mode": {
    "name": "ipython",
    "version": 3
   },
   "file_extension": ".py",
   "mimetype": "text/x-python",
   "name": "python",
   "nbconvert_exporter": "python",
   "pygments_lexer": "ipython3",
   "version": "3.13.3"
  }
 },
 "nbformat": 4,
 "nbformat_minor": 5
}
