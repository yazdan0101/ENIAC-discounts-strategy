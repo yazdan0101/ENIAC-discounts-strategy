{
 "cells": [
  {
   "cell_type": "code",
   "execution_count": 1,
   "id": "82f22983-1487-4d62-a302-1136acda8760",
   "metadata": {},
   "outputs": [],
   "source": [
    "import pandas as pd"
   ]
  },
  {
   "cell_type": "code",
   "execution_count": 2,
   "id": "e7a02d13-01e3-4c04-a065-b840bb6a6520",
   "metadata": {},
   "outputs": [],
   "source": [
    "base_raw_data_path='../data/raw'"
   ]
  },
  {
   "cell_type": "code",
   "execution_count": 3,
   "id": "08d5ddcd-a488-4e39-bb09-56c97624acab",
   "metadata": {},
   "outputs": [],
   "source": [
    "products_df=pd.read_csv(f'{base_raw_data_path}/products.csv')\n",
    "orders_df=pd.read_csv(f'{base_raw_data_path}/orders.csv')\n",
    "orderlines_df=pd.read_csv(f'{base_raw_data_path}/orderlines.csv')\n",
    "brands_df=pd.read_csv(f'{base_raw_data_path}/brands.csv')"
   ]
  },
  {
   "cell_type": "code",
   "execution_count": null,
   "id": "423adc23-03ed-4d59-a8a0-5466979a714c",
   "metadata": {},
   "outputs": [],
   "source": []
  }
 ],
 "metadata": {
  "kernelspec": {
   "display_name": "Python 3 (ipykernel)",
   "language": "python",
   "name": "python3"
  },
  "language_info": {
   "codemirror_mode": {
    "name": "ipython",
    "version": 3
   },
   "file_extension": ".py",
   "mimetype": "text/x-python",
   "name": "python",
   "nbconvert_exporter": "python",
   "pygments_lexer": "ipython3",
   "version": "3.13.3"
  }
 },
 "nbformat": 4,
 "nbformat_minor": 5
}
